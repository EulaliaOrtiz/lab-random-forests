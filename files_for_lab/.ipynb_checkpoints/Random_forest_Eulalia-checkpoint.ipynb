{
 "cells": [
  {
   "cell_type": "code",
   "execution_count": null,
   "id": "1786d558",
   "metadata": {},
   "outputs": [],
   "source": [
    "import pandas as pd\n",
    "import numpy as np\n",
    "import matplotlib.pyplot as plt\n",
    "\n",
    "from sklearn.model_selection import train_test_split\n",
    "from sklearn.tree import DecisionTreeRegressor\n",
    "\n",
    "from sklearn.preprocessing import OneHotEncoder\n",
    "from sklearn.model_selection import train_test_split\n",
    "from sklearn.ensemble import RandomForestClassifier\n",
    "from sklearn.ensemble import GradientBoostingRegressor\n",
    "from sklearn.model_selection import GridSearchCV\n",
    "from sklearn.model_selection import cross_val_score\n",
    "from sklearn.preprocessing import StandardScaler\n",
    "from sklearn.linear_model import LogisticRegression\n",
    "from sklearn.tree import DecisionTreeClassifier\n",
    "from collections import Counter\n",
    "from imblearn.over_sampling import RandomOverSampler \n",
    "from sklearn.preprocessing import MinMaxScaler\n",
    "import seaborn as sns\n",
    "from imblearn.over_sampling import SMOTE\n",
    "from sklearn.metrics import confusion_matrix, accuracy_score, precision_score, recall_score, ConfusionMatrixDisplay, classification_report"
   ]
  },
  {
   "cell_type": "code",
   "execution_count": null,
   "id": "31b889b0",
   "metadata": {},
   "outputs": [],
   "source": [
    "pd.set_option('display.max_columns', None)"
   ]
  },
  {
   "cell_type": "markdown",
   "id": "bbaf2225",
   "metadata": {},
   "source": [
    "## Reading the data"
   ]
  },
  {
   "cell_type": "code",
   "execution_count": null,
   "id": "5c6000f9",
   "metadata": {},
   "outputs": [],
   "source": [
    "cat = pd.read_csv('categorical.csv')"
   ]
  },
  {
   "cell_type": "code",
   "execution_count": null,
   "id": "285703a9",
   "metadata": {},
   "outputs": [],
   "source": [
    "num = pd.read_csv('numerical.csv')"
   ]
  },
  {
   "cell_type": "code",
   "execution_count": null,
   "id": "db56049c",
   "metadata": {},
   "outputs": [],
   "source": [
    "target = pd.read_csv('target.csv')"
   ]
  },
  {
   "cell_type": "code",
   "execution_count": null,
   "id": "efe67b68",
   "metadata": {},
   "outputs": [],
   "source": [
    "cat.shape"
   ]
  },
  {
   "cell_type": "code",
   "execution_count": null,
   "id": "424407ae",
   "metadata": {},
   "outputs": [],
   "source": [
    "num.shape"
   ]
  },
  {
   "cell_type": "code",
   "execution_count": null,
   "id": "d9d58716",
   "metadata": {},
   "outputs": [],
   "source": [
    "target.shape"
   ]
  },
  {
   "cell_type": "code",
   "execution_count": null,
   "id": "5fddf4a0",
   "metadata": {},
   "outputs": [],
   "source": [
    "target.nunique(dropna=False)"
   ]
  },
  {
   "cell_type": "code",
   "execution_count": null,
   "id": "00f3b48f",
   "metadata": {
    "scrolled": false
   },
   "outputs": [],
   "source": [
    "target['TARGET_B'].value_counts()"
   ]
  },
  {
   "cell_type": "code",
   "execution_count": null,
   "id": "2dbd7339",
   "metadata": {},
   "outputs": [],
   "source": [
    "target['TARGET_B']==1"
   ]
  },
  {
   "cell_type": "code",
   "execution_count": null,
   "id": "d89636fc",
   "metadata": {},
   "outputs": [],
   "source": [
    "target['TARGET_D'] "
   ]
  },
  {
   "cell_type": "code",
   "execution_count": null,
   "id": "9ab3f484",
   "metadata": {},
   "outputs": [],
   "source": [
    "sns.distplot(target['TARGET_D'], bins=10);"
   ]
  },
  {
   "cell_type": "markdown",
   "id": "6e04979c",
   "metadata": {},
   "source": [
    "### Calculating the average donation"
   ]
  },
  {
   "cell_type": "code",
   "execution_count": null,
   "id": "7e4b0a04",
   "metadata": {},
   "outputs": [],
   "source": [
    "target.groupby(['TARGET_B']).mean('TARGET_D') "
   ]
  },
  {
   "cell_type": "markdown",
   "id": "dbe39f5a",
   "metadata": {},
   "source": [
    "The average donation is 15.6 $ that we can use as a proxy to measure the cost of making a mistake in predicting. "
   ]
  },
  {
   "cell_type": "markdown",
   "id": "fc009fa2",
   "metadata": {},
   "source": [
    "### Checking for missing values"
   ]
  },
  {
   "cell_type": "code",
   "execution_count": null,
   "id": "55aac49e",
   "metadata": {},
   "outputs": [],
   "source": [
    "nulls_percent_num= pd.DataFrame(num.isna().sum()/len(num)).reset_index()\n",
    "nulls_percent_num.columns = ['column_name', 'nulls_percentage']\n",
    "nulls_percent_num"
   ]
  },
  {
   "cell_type": "code",
   "execution_count": null,
   "id": "6dda9d74",
   "metadata": {},
   "outputs": [],
   "source": [
    "nulls_percent_num[nulls_percent_num['nulls_percentage']!=0]"
   ]
  },
  {
   "cell_type": "code",
   "execution_count": null,
   "id": "b8c69701",
   "metadata": {},
   "outputs": [],
   "source": [
    "nulls_percent_cat= pd.DataFrame(num.isna().sum()/len(num)).reset_index()\n",
    "nulls_percent_cat.columns = ['column_name', 'nulls_percentage']\n",
    "nulls_percent_cat"
   ]
  },
  {
   "cell_type": "code",
   "execution_count": null,
   "id": "c2635537",
   "metadata": {},
   "outputs": [],
   "source": [
    "nulls_percent_cat[nulls_percent_cat['nulls_percentage']!=0]"
   ]
  },
  {
   "cell_type": "code",
   "execution_count": null,
   "id": "c1b4ce33",
   "metadata": {},
   "outputs": [],
   "source": [
    "num.isna().value_counts"
   ]
  },
  {
   "cell_type": "code",
   "execution_count": null,
   "id": "6db78e3e",
   "metadata": {},
   "outputs": [],
   "source": [
    "np.where(pd.isnull(num))"
   ]
  },
  {
   "cell_type": "code",
   "execution_count": null,
   "id": "64104237",
   "metadata": {},
   "outputs": [],
   "source": [
    "np.where(num.applymap(lambda x: x == ''))"
   ]
  },
  {
   "cell_type": "markdown",
   "id": "ccc35692",
   "metadata": {},
   "source": [
    "## Dummifying the categorical data"
   ]
  },
  {
   "cell_type": "code",
   "execution_count": null,
   "id": "d6a6539d",
   "metadata": {},
   "outputs": [],
   "source": [
    "cat.dtypes"
   ]
  },
  {
   "cell_type": "code",
   "execution_count": null,
   "id": "8ef39cd6",
   "metadata": {
    "scrolled": true
   },
   "outputs": [],
   "source": [
    "cat.nunique(dropna=False)"
   ]
  },
  {
   "cell_type": "code",
   "execution_count": null,
   "id": "3e106a9b",
   "metadata": {},
   "outputs": [],
   "source": [
    "cat[ 'STATE'].unique()"
   ]
  },
  {
   "cell_type": "code",
   "execution_count": null,
   "id": "60e39371",
   "metadata": {},
   "outputs": [],
   "source": [
    "cat[ 'HOMEOWNR'].value_counts()"
   ]
  },
  {
   "cell_type": "code",
   "execution_count": null,
   "id": "c3930497",
   "metadata": {},
   "outputs": [],
   "source": [
    "cat[ 'GENDER'].unique()"
   ]
  },
  {
   "cell_type": "code",
   "execution_count": null,
   "id": "88124040",
   "metadata": {},
   "outputs": [],
   "source": [
    "cat[ 'RFA_2R'].unique() #we drop this column."
   ]
  },
  {
   "cell_type": "code",
   "execution_count": null,
   "id": "c6b2277c",
   "metadata": {},
   "outputs": [],
   "source": [
    "cat[ 'RFA_2A'].unique()"
   ]
  },
  {
   "cell_type": "code",
   "execution_count": null,
   "id": "20fd9aef",
   "metadata": {},
   "outputs": [],
   "source": [
    "cat[ 'GEOCODE2'].unique()"
   ]
  },
  {
   "cell_type": "code",
   "execution_count": null,
   "id": "6e67006e",
   "metadata": {
    "scrolled": true
   },
   "outputs": [],
   "source": [
    "cat[ 'DOMAIN_A'].unique()"
   ]
  },
  {
   "cell_type": "code",
   "execution_count": null,
   "id": "09bc2cb1",
   "metadata": {},
   "outputs": [],
   "source": [
    "cat[['STATE','HOMEOWNR','GENDER', 'GEOCODE2', 'RFA_2A', 'DOMAIN_A']]\n"
   ]
  },
  {
   "cell_type": "code",
   "execution_count": null,
   "id": "d5f4930f",
   "metadata": {},
   "outputs": [],
   "source": [
    "encoder0 = OneHotEncoder()\n",
    "\n",
    "encoder0.fit(cat[['STATE']])\n",
    "col_transf0 = encoder0.transform(cat[['STATE']]).toarray()\n",
    "STATE = pd.DataFrame(col_transf0, columns=encoder0.categories_[0], dtype=int)\n",
    "STATE"
   ]
  },
  {
   "cell_type": "code",
   "execution_count": null,
   "id": "beb7c970",
   "metadata": {},
   "outputs": [],
   "source": [
    "encoder = OneHotEncoder()\n",
    "type(encoder)"
   ]
  },
  {
   "cell_type": "code",
   "execution_count": null,
   "id": "fce53270",
   "metadata": {},
   "outputs": [],
   "source": [
    "encoder.fit(cat[['HOMEOWNR']])"
   ]
  },
  {
   "cell_type": "code",
   "execution_count": null,
   "id": "cba73bea",
   "metadata": {},
   "outputs": [],
   "source": [
    "encoder.categories_[0]"
   ]
  },
  {
   "cell_type": "code",
   "execution_count": null,
   "id": "2be67758",
   "metadata": {},
   "outputs": [],
   "source": [
    "col_transf = encoder.transform(cat[['HOMEOWNR']]).toarray()\n",
    "col_transf"
   ]
  },
  {
   "cell_type": "code",
   "execution_count": null,
   "id": "d710d805",
   "metadata": {},
   "outputs": [],
   "source": [
    "col_transf.shape"
   ]
  },
  {
   "cell_type": "code",
   "execution_count": null,
   "id": "805060f6",
   "metadata": {},
   "outputs": [],
   "source": [
    "len(encoder.categories_[0])"
   ]
  },
  {
   "cell_type": "code",
   "execution_count": null,
   "id": "c06fc5da",
   "metadata": {},
   "outputs": [],
   "source": [
    "HOMEOWNR = pd.DataFrame(col_transf, columns=encoder.categories_[0], dtype=int)\n",
    "HOMEOWNR"
   ]
  },
  {
   "cell_type": "code",
   "execution_count": null,
   "id": "8a0a7d18",
   "metadata": {},
   "outputs": [],
   "source": [
    "encoder1 = OneHotEncoder()\n",
    "type(encoder1)"
   ]
  },
  {
   "cell_type": "code",
   "execution_count": null,
   "id": "745fdde8",
   "metadata": {},
   "outputs": [],
   "source": [
    "encoder1.fit(cat[['GENDER']])"
   ]
  },
  {
   "cell_type": "code",
   "execution_count": null,
   "id": "49d6ef7d",
   "metadata": {},
   "outputs": [],
   "source": [
    "\n",
    "\n",
    "\n",
    "col_transf1 = encoder1.transform(cat[['GENDER']]).toarray()\n",
    "col_transf1"
   ]
  },
  {
   "cell_type": "code",
   "execution_count": null,
   "id": "1589a678",
   "metadata": {},
   "outputs": [],
   "source": [
    "GENDER = pd.DataFrame(col_transf1, columns=encoder1.categories_[0], dtype=int)\n",
    "GENDER"
   ]
  },
  {
   "cell_type": "code",
   "execution_count": null,
   "id": "8036b25e",
   "metadata": {},
   "outputs": [],
   "source": [
    "encoder2 = OneHotEncoder()\n",
    "\n",
    "encoder2.fit(cat[['GEOCODE2']])\n",
    "col_transf2 = encoder2.transform(cat[['GEOCODE2']]).toarray()\n",
    "GEOCODE2 = pd.DataFrame(col_transf2, columns=encoder2.categories_[0], dtype=int)\n",
    "GEOCODE2\n",
    "\n",
    "\n",
    "\n"
   ]
  },
  {
   "cell_type": "code",
   "execution_count": null,
   "id": "b301bdd0",
   "metadata": {},
   "outputs": [],
   "source": [
    "encoder3 = OneHotEncoder()\n",
    "\n",
    "encoder3.fit(cat[['RFA_2A']])\n",
    "col_transf3 = encoder3.transform(cat[['RFA_2A']]).toarray()\n",
    "\n",
    "RFA_2A = pd.DataFrame(col_transf3, columns=encoder3.categories_[0], dtype=int)\n",
    "RFA_2A\n"
   ]
  },
  {
   "cell_type": "code",
   "execution_count": null,
   "id": "7c1907d2",
   "metadata": {},
   "outputs": [],
   "source": [
    "encoder4 = OneHotEncoder()\n",
    "\n",
    "encoder4.fit(cat[['DOMAIN_A']])\n",
    "col_transf4 = encoder4.transform(cat[['DOMAIN_A']]).toarray()\n",
    "DOMAIN_A = pd.DataFrame(col_transf4, columns=encoder4.categories_[0], dtype=int)\n",
    "DOMAIN_A\n"
   ]
  },
  {
   "cell_type": "code",
   "execution_count": null,
   "id": "33197abc",
   "metadata": {},
   "outputs": [],
   "source": [
    "cat_encod = pd.concat([STATE,HOMEOWNR,GENDER,GEOCODE2,RFA_2A,DOMAIN_A], axis = 1)"
   ]
  },
  {
   "cell_type": "code",
   "execution_count": null,
   "id": "0b16431c",
   "metadata": {},
   "outputs": [],
   "source": [
    "cat_encod.shape"
   ]
  },
  {
   "cell_type": "code",
   "execution_count": null,
   "id": "9be1eb4a",
   "metadata": {},
   "outputs": [],
   "source": [
    "cat_encod.head()"
   ]
  },
  {
   "cell_type": "code",
   "execution_count": null,
   "id": "6a032049",
   "metadata": {},
   "outputs": [],
   "source": [
    "cat.drop(['STATE','HOMEOWNR','GENDER','GEOCODE2','RFA_2A','DOMAIN_A', 'RFA_2R'], axis = 1, inplace= True)"
   ]
  },
  {
   "cell_type": "code",
   "execution_count": null,
   "id": "d972a218",
   "metadata": {},
   "outputs": [],
   "source": [
    "cat.head()"
   ]
  },
  {
   "cell_type": "code",
   "execution_count": null,
   "id": "b0f45a9e",
   "metadata": {},
   "outputs": [],
   "source": [
    "cat = pd.concat([cat, cat_encod], axis = 1)"
   ]
  },
  {
   "cell_type": "code",
   "execution_count": null,
   "id": "9fd01da2",
   "metadata": {},
   "outputs": [],
   "source": [
    "cat.shape"
   ]
  },
  {
   "cell_type": "markdown",
   "id": "f71e7882",
   "metadata": {},
   "source": [
    "## Train-test split"
   ]
  },
  {
   "cell_type": "code",
   "execution_count": null,
   "id": "fe365211",
   "metadata": {},
   "outputs": [],
   "source": [
    "data = pd.concat([cat, num, target], axis = 1)"
   ]
  },
  {
   "cell_type": "code",
   "execution_count": null,
   "id": "ded1b1d1",
   "metadata": {},
   "outputs": [],
   "source": [
    "y = data['TARGET_B']\n",
    "X = data.drop(['TARGET_B'], axis = 1)"
   ]
  },
  {
   "cell_type": "code",
   "execution_count": null,
   "id": "597c5287",
   "metadata": {},
   "outputs": [],
   "source": [
    "X_train, X_test, y_train, y_test = train_test_split(X, y, test_size=0.25, random_state=0)\n",
    "\n",
    "X_train = pd.DataFrame(X_train)\n",
    "X_test = pd.DataFrame(X_test)\n",
    "\n",
    "X_train.columns = X.columns\n",
    "X_test.columns = X.columns"
   ]
  },
  {
   "cell_type": "markdown",
   "id": "2408c5d0",
   "metadata": {},
   "source": [
    "## Upsampling to correct the class imbalance in TARGET_B"
   ]
  },
  {
   "cell_type": "markdown",
   "id": "8f8020e2",
   "metadata": {},
   "source": [
    "We apply upsampling to the train set. "
   ]
  },
  {
   "cell_type": "code",
   "execution_count": null,
   "id": "2785ce2b",
   "metadata": {},
   "outputs": [],
   "source": [
    "from imblearn.over_sampling import SMOTE\n",
    "\n",
    "sm = SMOTE(random_state=100,k_neighbors=3)\n",
    "X_train_SMOTE, y_train_SMOTE = sm.fit_resample(X_train_SMOTE, y_train_SMOTE)\n",
    "\n",
    "print(X_train_SMOTE.shape)\n",
    "print(y_train_SMOTE.shape)\n"
   ]
  },
  {
   "cell_type": "code",
   "execution_count": null,
   "id": "ad763204",
   "metadata": {},
   "outputs": [],
   "source": [
    "y_train.value_counts()"
   ]
  },
  {
   "cell_type": "code",
   "execution_count": null,
   "id": "29723717",
   "metadata": {},
   "outputs": [],
   "source": [
    "y_train_SMOTE.value_counts()"
   ]
  },
  {
   "cell_type": "markdown",
   "id": "2f0a9b3e",
   "metadata": {},
   "source": [
    "## Applying the random forest classifier"
   ]
  },
  {
   "cell_type": "code",
   "execution_count": null,
   "id": "3bad4e96",
   "metadata": {},
   "outputs": [],
   "source": [
    "X_train = pd.DataFrame(X_train_SMOTE)\n",
    "X_test = pd.DataFrame(X_test)\n",
    "\n",
    "\n",
    "y_train_regression = X_train['TARGET_D']\n",
    "y_test_regression = X_test['TARGET_D']\n",
    "\n",
    "# Now we can remove the column target d from the set of features\n",
    "X_train = X_train.drop(['TARGET_D'], axis = 1)\n",
    "X_test = X_test.drop(['TARGET_D'], axis = 1)"
   ]
  },
  {
   "cell_type": "code",
   "execution_count": null,
   "id": "b6ebc3a0",
   "metadata": {},
   "outputs": [],
   "source": [
    "from sklearn.ensemble import RandomForestClassifier\n",
    "from sklearn.metrics import confusion_matrix\n",
    "\n",
    "clf = RandomForestClassifier(max_depth=5,\n",
    "                             min_samples_split=20,\n",
    "                             min_samples_leaf =20,\n",
    "                             max_samples=0.8,\n",
    "                             random_state = 42)\n",
    "clf.fit(X_train, y_train_SMOTE)\n",
    "\n",
    "print(\"The accuracy for the Random Forest in the TRAIN set is {:.2f}\".format(clf.score(X_train,  y_train_SMOTE)))\n",
    "print(\"The accuracy for the Random Forest in the TEST  set is {:.2f}\".format(clf.score(X_test, y_test)))\n",
    "\n",
    "y_pred = clf.predict(X_test)\n",
    "display(y_test.value_counts())\n",
    "display(confusion_matrix(y_test, y_pred))"
   ]
  },
  {
   "cell_type": "code",
   "execution_count": null,
   "id": "ae8dc381",
   "metadata": {},
   "outputs": [],
   "source": [
    "from sklearn.model_selection import cross_val_score\n",
    "\n",
    "clf = RandomForestClassifier(max_depth=5,\n",
    "                             min_samples_split=20,\n",
    "                             min_samples_leaf =20,\n",
    "                             max_samples=0.8)\n",
    "\n",
    "cross_val_scores = cross_val_score(clf, X_train, y_train, cv=10)\n",
    "\n",
    "print(\"The mean accuracy of the folds was {:.2f}\".format(np.mean(cross_val_scores)))"
   ]
  },
  {
   "cell_type": "code",
   "execution_count": null,
   "id": "e0d88874",
   "metadata": {},
   "outputs": [],
   "source": [
    "cm = confusion_matrix(y_test, y_pred, labels=clf.classes_)\n",
    "disp = ConfusionMatrixDisplay(confusion_matrix=cm, display_labels=clf.classes_)\n",
    "disp.plot()\n",
    "plt.show()"
   ]
  },
  {
   "cell_type": "code",
   "execution_count": null,
   "id": "c932b1bc",
   "metadata": {},
   "outputs": [],
   "source": [
    "from sklearn.model_selection import cross_val_score\n",
    "\n",
    "clf = RandomForestClassifier(max_depth=5,\n",
    "                             min_samples_split=20,\n",
    "                             min_samples_leaf =20,\n",
    "                             max_samples=0.8)\n",
    "\n",
    "cross_val_scores = cross_val_score(clf, X_train_SMOTE, y_train_SMOTE, cv=10)\n",
    "\n",
    "print(\"The mean accuracy of the folds was {:.2f}\".format(np.mean(cross_val_scores)))"
   ]
  },
  {
   "cell_type": "code",
   "execution_count": null,
   "id": "cdf742ea",
   "metadata": {},
   "outputs": [],
   "source": [
    "cross_val_scores"
   ]
  },
  {
   "cell_type": "markdown",
   "id": "30c3131c",
   "metadata": {},
   "source": [
    "### Discuss the output and its impact in the bussiness scenario. Is the cost of a false positive equals to the cost of the false negative? How would you change your algorithm or data in order to maximize the return of the bussiness"
   ]
  },
  {
   "cell_type": "markdown",
   "id": "37e51bc1",
   "metadata": {},
   "source": [
    "We are predicting if a person is donating or not. The most costly mistake is the prediction of a false negative (when the model predicts that a person is not donating and that person would have in fact donated).\n",
    "The cost of the mistake is the donation that is lost if these persons are not reached by mail. The bigger the lost donation,the higher the cost of the mistake. We could approximate by the mean of the donations (15,6 dollars). Inversely, the cost of a false positive (the model predicts the person will donate when in fact the person does not donate) is the cost of the mailing (0,60 dollars).  \n",
    "The metric we would like to bring as close to one as possible is the recall metric: True positive/(true positive+false negative)."
   ]
  },
  {
   "cell_type": "code",
   "execution_count": null,
   "id": "5e965180",
   "metadata": {},
   "outputs": [],
   "source": []
  },
  {
   "cell_type": "code",
   "execution_count": null,
   "id": "d6568cde",
   "metadata": {},
   "outputs": [],
   "source": []
  },
  {
   "cell_type": "code",
   "execution_count": null,
   "id": "17332e5d",
   "metadata": {},
   "outputs": [],
   "source": []
  },
  {
   "cell_type": "code",
   "execution_count": null,
   "id": "1ab3860a",
   "metadata": {},
   "outputs": [],
   "source": []
  },
  {
   "cell_type": "code",
   "execution_count": null,
   "id": "971145d5",
   "metadata": {},
   "outputs": [],
   "source": []
  }
 ],
 "metadata": {
  "kernelspec": {
   "display_name": "Python 3 (ipykernel)",
   "language": "python",
   "name": "python3"
  },
  "language_info": {
   "codemirror_mode": {
    "name": "ipython",
    "version": 3
   },
   "file_extension": ".py",
   "mimetype": "text/x-python",
   "name": "python",
   "nbconvert_exporter": "python",
   "pygments_lexer": "ipython3",
   "version": "3.9.12"
  },
  "toc": {
   "base_numbering": 1,
   "nav_menu": {},
   "number_sections": true,
   "sideBar": true,
   "skip_h1_title": false,
   "title_cell": "Table of Contents",
   "title_sidebar": "Contents",
   "toc_cell": false,
   "toc_position": {},
   "toc_section_display": true,
   "toc_window_display": false
  },
  "varInspector": {
   "cols": {
    "lenName": 16,
    "lenType": 16,
    "lenVar": 40
   },
   "kernels_config": {
    "python": {
     "delete_cmd_postfix": "",
     "delete_cmd_prefix": "del ",
     "library": "var_list.py",
     "varRefreshCmd": "print(var_dic_list())"
    },
    "r": {
     "delete_cmd_postfix": ") ",
     "delete_cmd_prefix": "rm(",
     "library": "var_list.r",
     "varRefreshCmd": "cat(var_dic_list()) "
    }
   },
   "types_to_exclude": [
    "module",
    "function",
    "builtin_function_or_method",
    "instance",
    "_Feature"
   ],
   "window_display": false
  }
 },
 "nbformat": 4,
 "nbformat_minor": 5
}
