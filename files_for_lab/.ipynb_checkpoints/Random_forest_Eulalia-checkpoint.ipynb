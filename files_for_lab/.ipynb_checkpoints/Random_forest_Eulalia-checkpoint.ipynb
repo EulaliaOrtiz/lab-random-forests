{
 "cells": [
  {
   "cell_type": "code",
   "execution_count": 131,
   "id": "1786d558",
   "metadata": {},
   "outputs": [],
   "source": [
    "import pandas as pd\n",
    "import numpy as np\n",
    "import matplotlib.pyplot as plt\n",
    "\n",
    "from sklearn.model_selection import train_test_split\n",
    "from sklearn.tree import DecisionTreeRegressor\n",
    "\n",
    "from sklearn.preprocessing import OneHotEncoder\n",
    "from sklearn.model_selection import train_test_split\n",
    "from sklearn.ensemble import RandomForestClassifier\n",
    "from sklearn.ensemble import GradientBoostingRegressor\n",
    "from sklearn.model_selection import GridSearchCV\n",
    "from sklearn.model_selection import cross_val_score\n",
    "from sklearn.preprocessing import StandardScaler\n",
    "from sklearn.linear_model import LogisticRegression\n",
    "from sklearn.tree import DecisionTreeClassifier\n",
    "from collections import Counter\n",
    "from imblearn.over_sampling import RandomOverSampler \n",
    "from sklearn.preprocessing import MinMaxScaler\n",
    "import seaborn as sns\n",
    "from imblearn.over_sampling import SMOTE\n",
    "from sklearn.metrics import confusion_matrix, accuracy_score, precision_score, recall_score, ConfusionMatrixDisplay, classification_report"
   ]
  },
  {
   "cell_type": "code",
   "execution_count": 59,
   "id": "31b889b0",
   "metadata": {},
   "outputs": [],
   "source": [
    "pd.set_option('display.max_columns', None)"
   ]
  },
  {
   "cell_type": "markdown",
   "id": "bbaf2225",
   "metadata": {},
   "source": [
    "## Reading the data"
   ]
  },
  {
   "cell_type": "code",
   "execution_count": 60,
   "id": "5c6000f9",
   "metadata": {},
   "outputs": [],
   "source": [
    "cat = pd.read_csv('categorical.csv')"
   ]
  },
  {
   "cell_type": "code",
   "execution_count": 61,
   "id": "285703a9",
   "metadata": {},
   "outputs": [],
   "source": [
    "num = pd.read_csv('numerical.csv')"
   ]
  },
  {
   "cell_type": "code",
   "execution_count": 62,
   "id": "db56049c",
   "metadata": {},
   "outputs": [],
   "source": [
    "target = pd.read_csv('target.csv')"
   ]
  },
  {
   "cell_type": "code",
   "execution_count": 63,
   "id": "efe67b68",
   "metadata": {},
   "outputs": [
    {
     "data": {
      "text/plain": [
       "(95412, 22)"
      ]
     },
     "execution_count": 63,
     "metadata": {},
     "output_type": "execute_result"
    }
   ],
   "source": [
    "cat.shape"
   ]
  },
  {
   "cell_type": "code",
   "execution_count": 64,
   "id": "424407ae",
   "metadata": {},
   "outputs": [
    {
     "data": {
      "text/plain": [
       "(95412, 315)"
      ]
     },
     "execution_count": 64,
     "metadata": {},
     "output_type": "execute_result"
    }
   ],
   "source": [
    "num.shape"
   ]
  },
  {
   "cell_type": "code",
   "execution_count": 65,
   "id": "d9d58716",
   "metadata": {},
   "outputs": [
    {
     "data": {
      "text/plain": [
       "(95412, 2)"
      ]
     },
     "execution_count": 65,
     "metadata": {},
     "output_type": "execute_result"
    }
   ],
   "source": [
    "target.shape"
   ]
  },
  {
   "cell_type": "code",
   "execution_count": 66,
   "id": "5fddf4a0",
   "metadata": {},
   "outputs": [
    {
     "data": {
      "text/plain": [
       "TARGET_B     2\n",
       "TARGET_D    71\n",
       "dtype: int64"
      ]
     },
     "execution_count": 66,
     "metadata": {},
     "output_type": "execute_result"
    }
   ],
   "source": [
    "target.nunique(dropna=False)"
   ]
  },
  {
   "cell_type": "code",
   "execution_count": 67,
   "id": "00f3b48f",
   "metadata": {
    "scrolled": false
   },
   "outputs": [
    {
     "data": {
      "text/plain": [
       "0    90569\n",
       "1     4843\n",
       "Name: TARGET_B, dtype: int64"
      ]
     },
     "execution_count": 67,
     "metadata": {},
     "output_type": "execute_result"
    }
   ],
   "source": [
    "target['TARGET_B'].value_counts()"
   ]
  },
  {
   "cell_type": "code",
   "execution_count": 68,
   "id": "d89636fc",
   "metadata": {},
   "outputs": [
    {
     "data": {
      "text/plain": [
       "0         0.0\n",
       "1         0.0\n",
       "2         0.0\n",
       "3         0.0\n",
       "4         0.0\n",
       "         ... \n",
       "95407     0.0\n",
       "95408     0.0\n",
       "95409     0.0\n",
       "95410    18.0\n",
       "95411     0.0\n",
       "Name: TARGET_D, Length: 95412, dtype: float64"
      ]
     },
     "execution_count": 68,
     "metadata": {},
     "output_type": "execute_result"
    }
   ],
   "source": [
    "target['TARGET_D'] "
   ]
  },
  {
   "cell_type": "code",
   "execution_count": 69,
   "id": "9ab3f484",
   "metadata": {},
   "outputs": [
    {
     "name": "stderr",
     "output_type": "stream",
     "text": [
      "C:\\Users\\31612\\anaconda3\\lib\\site-packages\\seaborn\\distributions.py:2619: FutureWarning: `distplot` is a deprecated function and will be removed in a future version. Please adapt your code to use either `displot` (a figure-level function with similar flexibility) or `histplot` (an axes-level function for histograms).\n",
      "  warnings.warn(msg, FutureWarning)\n"
     ]
    },
    {
     "data": {
      "image/png": "[encoded data removed]",
      "text/plain": [
       "<Figure size 432x288 with 1 Axes>"
      ]
     },
     "metadata": {
      "needs_background": "light"
     },
     "output_type": "display_data"
    }
   ],
   "source": [
    "sns.distplot(target['TARGET_D'], bins=10);"
   ]
  },
  {
   "cell_type": "code",
   "execution_count": null,
   "id": "794309b6",
   "metadata": {},
   "outputs": [],
   "source": []
  },
  {
   "cell_type": "markdown",
   "id": "fc009fa2",
   "metadata": {},
   "source": [
    "### Checking for missing values"
   ]
  },
  {
   "cell_type": "code",
   "execution_count": 70,
   "id": "55aac49e",
   "metadata": {},
   "outputs": [
    {
     "data": {
      "text/html": [
       "<div>\n",
       "<style scoped>\n",
       "    .dataframe tbody tr th:only-of-type {\n",
       "        vertical-align: middle;\n",
       "    }\n",
       "\n",
       "    .dataframe tbody tr th {\n",
       "        vertical-align: top;\n",
       "    }\n",
       "\n",
       "    .dataframe thead th {\n",
       "        text-align: right;\n",
       "    }\n",
       "</style>\n",
       "<table border=\"1\" class=\"dataframe\">\n",
       "  <thead>\n",
       "    <tr style=\"text-align: right;\">\n",
       "      <th></th>\n",
       "      <th>column_name</th>\n",
       "      <th>nulls_percentage</th>\n",
       "    </tr>\n",
       "  </thead>\n",
       "  <tbody>\n",
       "    <tr>\n",
       "      <th>0</th>\n",
       "      <td>TCODE</td>\n",
       "      <td>0.0</td>\n",
       "    </tr>\n",
       "    <tr>\n",
       "      <th>1</th>\n",
       "      <td>AGE</td>\n",
       "      <td>0.0</td>\n",
       "    </tr>\n",
       "    <tr>\n",
       "      <th>2</th>\n",
       "      <td>INCOME</td>\n",
       "      <td>0.0</td>\n",
       "    </tr>\n",
       "    <tr>\n",
       "      <th>3</th>\n",
       "      <td>WEALTH1</td>\n",
       "      <td>0.0</td>\n",
       "    </tr>\n",
       "    <tr>\n",
       "      <th>4</th>\n",
       "      <td>HIT</td>\n",
       "      <td>0.0</td>\n",
       "    </tr>\n",
       "    <tr>\n",
       "      <th>...</th>\n",
       "      <td>...</td>\n",
       "      <td>...</td>\n",
       "    </tr>\n",
       "    <tr>\n",
       "      <th>310</th>\n",
       "      <td>AVGGIFT</td>\n",
       "      <td>0.0</td>\n",
       "    </tr>\n",
       "    <tr>\n",
       "      <th>311</th>\n",
       "      <td>CONTROLN</td>\n",
       "      <td>0.0</td>\n",
       "    </tr>\n",
       "    <tr>\n",
       "      <th>312</th>\n",
       "      <td>HPHONE_D</td>\n",
       "      <td>0.0</td>\n",
       "    </tr>\n",
       "    <tr>\n",
       "      <th>313</th>\n",
       "      <td>RFA_2F</td>\n",
       "      <td>0.0</td>\n",
       "    </tr>\n",
       "    <tr>\n",
       "      <th>314</th>\n",
       "      <td>CLUSTER2</td>\n",
       "      <td>0.0</td>\n",
       "    </tr>\n",
       "  </tbody>\n",
       "</table>\n",
       "<p>315 rows × 2 columns</p>\n",
       "</div>"
      ],
      "text/plain": [
       "    column_name  nulls_percentage\n",
       "0         TCODE               0.0\n",
       "1           AGE               0.0\n",
       "2        INCOME               0.0\n",
       "3       WEALTH1               0.0\n",
       "4           HIT               0.0\n",
       "..          ...               ...\n",
       "310     AVGGIFT               0.0\n",
       "311    CONTROLN               0.0\n",
       "312    HPHONE_D               0.0\n",
       "313      RFA_2F               0.0\n",
       "314    CLUSTER2               0.0\n",
       "\n",
       "[315 rows x 2 columns]"
      ]
     },
     "execution_count": 70,
     "metadata": {},
     "output_type": "execute_result"
    }
   ],
   "source": [
    "nulls_percent_num= pd.DataFrame(num.isna().sum()/len(num)).reset_index()\n",
    "nulls_percent_num.columns = ['column_name', 'nulls_percentage']\n",
    "nulls_percent_num"
   ]
  },
  {
   "cell_type": "code",
   "execution_count": 71,
   "id": "6dda9d74",
   "metadata": {},
   "outputs": [
    {
     "data": {
      "text/html": [
       "<div>\n",
       "<style scoped>\n",
       "    .dataframe tbody tr th:only-of-type {\n",
       "        vertical-align: middle;\n",
       "    }\n",
       "\n",
       "    .dataframe tbody tr th {\n",
       "        vertical-align: top;\n",
       "    }\n",
       "\n",
       "    .dataframe thead th {\n",
       "        text-align: right;\n",
       "    }\n",
       "</style>\n",
       "<table border=\"1\" class=\"dataframe\">\n",
       "  <thead>\n",
       "    <tr style=\"text-align: right;\">\n",
       "      <th></th>\n",
       "      <th>column_name</th>\n",
       "      <th>nulls_percentage</th>\n",
       "    </tr>\n",
       "  </thead>\n",
       "  <tbody>\n",
       "  </tbody>\n",
       "</table>\n",
       "</div>"
      ],
      "text/plain": [
       "Empty DataFrame\n",
       "Columns: [column_name, nulls_percentage]\n",
       "Index: []"
      ]
     },
     "execution_count": 71,
     "metadata": {},
     "output_type": "execute_result"
    }
   ],
   "source": [
    "nulls_percent_num[nulls_percent_num['nulls_percentage']!=0]"
   ]
  },
  {
   "cell_type": "code",
   "execution_count": 72,
   "id": "b8c69701",
   "metadata": {},
   "outputs": [
    {
     "data": {
      "text/html": [
       "<div>\n",
       "<style scoped>\n",
       "    .dataframe tbody tr th:only-of-type {\n",
       "        vertical-align: middle;\n",
       "    }\n",
       "\n",
       "    .dataframe tbody tr th {\n",
       "        vertical-align: top;\n",
       "    }\n",
       "\n",
       "    .dataframe thead th {\n",
       "        text-align: right;\n",
       "    }\n",
       "</style>\n",
       "<table border=\"1\" class=\"dataframe\">\n",
       "  <thead>\n",
       "    <tr style=\"text-align: right;\">\n",
       "      <th></th>\n",
       "      <th>column_name</th>\n",
       "      <th>nulls_percentage</th>\n",
       "    </tr>\n",
       "  </thead>\n",
       "  <tbody>\n",
       "    <tr>\n",
       "      <th>0</th>\n",
       "      <td>TCODE</td>\n",
       "      <td>0.0</td>\n",
       "    </tr>\n",
       "    <tr>\n",
       "      <th>1</th>\n",
       "      <td>AGE</td>\n",
       "      <td>0.0</td>\n",
       "    </tr>\n",
       "    <tr>\n",
       "      <th>2</th>\n",
       "      <td>INCOME</td>\n",
       "      <td>0.0</td>\n",
       "    </tr>\n",
       "    <tr>\n",
       "      <th>3</th>\n",
       "      <td>WEALTH1</td>\n",
       "      <td>0.0</td>\n",
       "    </tr>\n",
       "    <tr>\n",
       "      <th>4</th>\n",
       "      <td>HIT</td>\n",
       "      <td>0.0</td>\n",
       "    </tr>\n",
       "    <tr>\n",
       "      <th>...</th>\n",
       "      <td>...</td>\n",
       "      <td>...</td>\n",
       "    </tr>\n",
       "    <tr>\n",
       "      <th>310</th>\n",
       "      <td>AVGGIFT</td>\n",
       "      <td>0.0</td>\n",
       "    </tr>\n",
       "    <tr>\n",
       "      <th>311</th>\n",
       "      <td>CONTROLN</td>\n",
       "      <td>0.0</td>\n",
       "    </tr>\n",
       "    <tr>\n",
       "      <th>312</th>\n",
       "      <td>HPHONE_D</td>\n",
       "      <td>0.0</td>\n",
       "    </tr>\n",
       "    <tr>\n",
       "      <th>313</th>\n",
       "      <td>RFA_2F</td>\n",
       "      <td>0.0</td>\n",
       "    </tr>\n",
       "    <tr>\n",
       "      <th>314</th>\n",
       "      <td>CLUSTER2</td>\n",
       "      <td>0.0</td>\n",
       "    </tr>\n",
       "  </tbody>\n",
       "</table>\n",
       "<p>315 rows × 2 columns</p>\n",
       "</div>"
      ],
      "text/plain": [
       "    column_name  nulls_percentage\n",
       "0         TCODE               0.0\n",
       "1           AGE               0.0\n",
       "2        INCOME               0.0\n",
       "3       WEALTH1               0.0\n",
       "4           HIT               0.0\n",
       "..          ...               ...\n",
       "310     AVGGIFT               0.0\n",
       "311    CONTROLN               0.0\n",
       "312    HPHONE_D               0.0\n",
       "313      RFA_2F               0.0\n",
       "314    CLUSTER2               0.0\n",
       "\n",
       "[315 rows x 2 columns]"
      ]
     },
     "execution_count": 72,
     "metadata": {},
     "output_type": "execute_result"
    }
   ],
   "source": [
    "nulls_percent_cat= pd.DataFrame(num.isna().sum()/len(num)).reset_index()\n",
    "nulls_percent_cat.columns = ['column_name', 'nulls_percentage']\n",
    "nulls_percent_cat"
   ]
  },
  {
   "cell_type": "code",
   "execution_count": 73,
   "id": "c2635537",
   "metadata": {},
   "outputs": [
    {
     "data": {
      "text/html": [
       "<div>\n",
       "<style scoped>\n",
       "    .dataframe tbody tr th:only-of-type {\n",
       "        vertical-align: middle;\n",
       "    }\n",
       "\n",
       "    .dataframe tbody tr th {\n",
       "        vertical-align: top;\n",
       "    }\n",
       "\n",
       "    .dataframe thead th {\n",
       "        text-align: right;\n",
       "    }\n",
       "</style>\n",
       "<table border=\"1\" class=\"dataframe\">\n",
       "  <thead>\n",
       "    <tr style=\"text-align: right;\">\n",
       "      <th></th>\n",
       "      <th>column_name</th>\n",
       "      <th>nulls_percentage</th>\n",
       "    </tr>\n",
       "  </thead>\n",
       "  <tbody>\n",
       "  </tbody>\n",
       "</table>\n",
       "</div>"
      ],
      "text/plain": [
       "Empty DataFrame\n",
       "Columns: [column_name, nulls_percentage]\n",
       "Index: []"
      ]
     },
     "execution_count": 73,
     "metadata": {},
     "output_type": "execute_result"
    }
   ],
   "source": [
    "nulls_percent_cat[nulls_percent_cat['nulls_percentage']!=0]"
   ]
  },
  {
   "cell_type": "code",
   "execution_count": 74,
   "id": "c1b4ce33",
   "metadata": {},
   "outputs": [
    {
     "data": {
      "text/plain": [
       "<bound method DataFrame.value_counts of        TCODE    AGE  INCOME  WEALTH1    HIT  MALEMILI  MALEVET  VIETVETS  \\\n",
       "0      False  False   False    False  False     False    False     False   \n",
       "1      False  False   False    False  False     False    False     False   \n",
       "2      False  False   False    False  False     False    False     False   \n",
       "3      False  False   False    False  False     False    False     False   \n",
       "4      False  False   False    False  False     False    False     False   \n",
       "...      ...    ...     ...      ...    ...       ...      ...       ...   \n",
       "95407  False  False   False    False  False     False    False     False   \n",
       "95408  False  False   False    False  False     False    False     False   \n",
       "95409  False  False   False    False  False     False    False     False   \n",
       "95410  False  False   False    False  False     False    False     False   \n",
       "95411  False  False   False    False  False     False    False     False   \n",
       "\n",
       "       WWIIVETS  LOCALGOV  STATEGOV  FEDGOV  WEALTH2  POP901  POP902  POP903  \\\n",
       "0         False     False     False   False    False   False   False   False   \n",
       "1         False     False     False   False    False   False   False   False   \n",
       "2         False     False     False   False    False   False   False   False   \n",
       "3         False     False     False   False    False   False   False   False   \n",
       "4         False     False     False   False    False   False   False   False   \n",
       "...         ...       ...       ...     ...      ...     ...     ...     ...   \n",
       "95407     False     False     False   False    False   False   False   False   \n",
       "95408     False     False     False   False    False   False   False   False   \n",
       "95409     False     False     False   False    False   False   False   False   \n",
       "95410     False     False     False   False    False   False   False   False   \n",
       "95411     False     False     False   False    False   False   False   False   \n",
       "\n",
       "       POP90C1  POP90C2  POP90C3  POP90C4  POP90C5   ETH1   ETH2   ETH3  \\\n",
       "0        False    False    False    False    False  False  False  False   \n",
       "1        False    False    False    False    False  False  False  False   \n",
       "2        False    False    False    False    False  False  False  False   \n",
       "3        False    False    False    False    False  False  False  False   \n",
       "4        False    False    False    False    False  False  False  False   \n",
       "...        ...      ...      ...      ...      ...    ...    ...    ...   \n",
       "95407    False    False    False    False    False  False  False  False   \n",
       "95408    False    False    False    False    False  False  False  False   \n",
       "95409    False    False    False    False    False  False  False  False   \n",
       "95410    False    False    False    False    False  False  False  False   \n",
       "95411    False    False    False    False    False  False  False  False   \n",
       "\n",
       "        ETH4   ETH5   ETH6   ETH7   ETH8   ETH9  ETH10  ETH11  ETH12  ETH13  \\\n",
       "0      False  False  False  False  False  False  False  False  False  False   \n",
       "1      False  False  False  False  False  False  False  False  False  False   \n",
       "2      False  False  False  False  False  False  False  False  False  False   \n",
       "3      False  False  False  False  False  False  False  False  False  False   \n",
       "4      False  False  False  False  False  False  False  False  False  False   \n",
       "...      ...    ...    ...    ...    ...    ...    ...    ...    ...    ...   \n",
       "95407  False  False  False  False  False  False  False  False  False  False   \n",
       "95408  False  False  False  False  False  False  False  False  False  False   \n",
       "95409  False  False  False  False  False  False  False  False  False  False   \n",
       "95410  False  False  False  False  False  False  False  False  False  False   \n",
       "95411  False  False  False  False  False  False  False  False  False  False   \n",
       "\n",
       "       ETH14  ETH15  ETH16  AGE901  AGE902  AGE903  AGE904  AGE905  AGE906  \\\n",
       "0      False  False  False   False   False   False   False   False   False   \n",
       "1      False  False  False   False   False   False   False   False   False   \n",
       "2      False  False  False   False   False   False   False   False   False   \n",
       "3      False  False  False   False   False   False   False   False   False   \n",
       "4      False  False  False   False   False   False   False   False   False   \n",
       "...      ...    ...    ...     ...     ...     ...     ...     ...     ...   \n",
       "95407  False  False  False   False   False   False   False   False   False   \n",
       "95408  False  False  False   False   False   False   False   False   False   \n",
       "95409  False  False  False   False   False   False   False   False   False   \n",
       "95410  False  False  False   False   False   False   False   False   False   \n",
       "95411  False  False  False   False   False   False   False   False   False   \n",
       "\n",
       "       AGE907  CHIL1  CHIL2  CHIL3  AGEC1  AGEC2  AGEC3  AGEC4  AGEC5  AGEC6  \\\n",
       "0       False  False  False  False  False  False  False  False  False  False   \n",
       "1       False  False  False  False  False  False  False  False  False  False   \n",
       "2       False  False  False  False  False  False  False  False  False  False   \n",
       "3       False  False  False  False  False  False  False  False  False  False   \n",
       "4       False  False  False  False  False  False  False  False  False  False   \n",
       "...       ...    ...    ...    ...    ...    ...    ...    ...    ...    ...   \n",
       "95407   False  False  False  False  False  False  False  False  False  False   \n",
       "95408   False  False  False  False  False  False  False  False  False  False   \n",
       "95409   False  False  False  False  False  False  False  False  False  False   \n",
       "95410   False  False  False  False  False  False  False  False  False  False   \n",
       "95411   False  False  False  False  False  False  False  False  False  False   \n",
       "\n",
       "       AGEC7  CHILC1  CHILC2  CHILC3  CHILC4  CHILC5  HHAGE1  HHAGE2  HHAGE3  \\\n",
       "0      False   False   False   False   False   False   False   False   False   \n",
       "1      False   False   False   False   False   False   False   False   False   \n",
       "2      False   False   False   False   False   False   False   False   False   \n",
       "3      False   False   False   False   False   False   False   False   False   \n",
       "4      False   False   False   False   False   False   False   False   False   \n",
       "...      ...     ...     ...     ...     ...     ...     ...     ...     ...   \n",
       "95407  False   False   False   False   False   False   False   False   False   \n",
       "95408  False   False   False   False   False   False   False   False   False   \n",
       "95409  False   False   False   False   False   False   False   False   False   \n",
       "95410  False   False   False   False   False   False   False   False   False   \n",
       "95411  False   False   False   False   False   False   False   False   False   \n",
       "\n",
       "        HHN1   HHN2   HHN3   HHN4   HHN5   HHN6  MARR1  MARR2  MARR3  MARR4  \\\n",
       "0      False  False  False  False  False  False  False  False  False  False   \n",
       "1      False  False  False  False  False  False  False  False  False  False   \n",
       "2      False  False  False  False  False  False  False  False  False  False   \n",
       "3      False  False  False  False  False  False  False  False  False  False   \n",
       "4      False  False  False  False  False  False  False  False  False  False   \n",
       "...      ...    ...    ...    ...    ...    ...    ...    ...    ...    ...   \n",
       "95407  False  False  False  False  False  False  False  False  False  False   \n",
       "95408  False  False  False  False  False  False  False  False  False  False   \n",
       "95409  False  False  False  False  False  False  False  False  False  False   \n",
       "95410  False  False  False  False  False  False  False  False  False  False   \n",
       "95411  False  False  False  False  False  False  False  False  False  False   \n",
       "\n",
       "        HHP1   HHP2    DW1    DW2    DW3    DW4    DW5    DW6    DW7    DW8  \\\n",
       "0      False  False  False  False  False  False  False  False  False  False   \n",
       "1      False  False  False  False  False  False  False  False  False  False   \n",
       "2      False  False  False  False  False  False  False  False  False  False   \n",
       "3      False  False  False  False  False  False  False  False  False  False   \n",
       "4      False  False  False  False  False  False  False  False  False  False   \n",
       "...      ...    ...    ...    ...    ...    ...    ...    ...    ...    ...   \n",
       "95407  False  False  False  False  False  False  False  False  False  False   \n",
       "95408  False  False  False  False  False  False  False  False  False  False   \n",
       "95409  False  False  False  False  False  False  False  False  False  False   \n",
       "95410  False  False  False  False  False  False  False  False  False  False   \n",
       "95411  False  False  False  False  False  False  False  False  False  False   \n",
       "\n",
       "         DW9    HV1    HV2    HV3    HV4    HU1    HU2    HU3    HU4    HU5  \\\n",
       "0      False  False  False  False  False  False  False  False  False  False   \n",
       "1      False  False  False  False  False  False  False  False  False  False   \n",
       "2      False  False  False  False  False  False  False  False  False  False   \n",
       "3      False  False  False  False  False  False  False  False  False  False   \n",
       "4      False  False  False  False  False  False  False  False  False  False   \n",
       "...      ...    ...    ...    ...    ...    ...    ...    ...    ...    ...   \n",
       "95407  False  False  False  False  False  False  False  False  False  False   \n",
       "95408  False  False  False  False  False  False  False  False  False  False   \n",
       "95409  False  False  False  False  False  False  False  False  False  False   \n",
       "95410  False  False  False  False  False  False  False  False  False  False   \n",
       "95411  False  False  False  False  False  False  False  False  False  False   \n",
       "\n",
       "        HHD1   HHD2   HHD3   HHD4   HHD5   HHD6   HHD7   HHD8   HHD9  HHD10  \\\n",
       "0      False  False  False  False  False  False  False  False  False  False   \n",
       "1      False  False  False  False  False  False  False  False  False  False   \n",
       "2      False  False  False  False  False  False  False  False  False  False   \n",
       "3      False  False  False  False  False  False  False  False  False  False   \n",
       "4      False  False  False  False  False  False  False  False  False  False   \n",
       "...      ...    ...    ...    ...    ...    ...    ...    ...    ...    ...   \n",
       "95407  False  False  False  False  False  False  False  False  False  False   \n",
       "95408  False  False  False  False  False  False  False  False  False  False   \n",
       "95409  False  False  False  False  False  False  False  False  False  False   \n",
       "95410  False  False  False  False  False  False  False  False  False  False   \n",
       "95411  False  False  False  False  False  False  False  False  False  False   \n",
       "\n",
       "       HHD11  HHD12  ETHC1  ETHC2  ETHC3  ETHC4  ETHC5  ETHC6   HVP1   HVP2  \\\n",
       "0      False  False  False  False  False  False  False  False  False  False   \n",
       "1      False  False  False  False  False  False  False  False  False  False   \n",
       "2      False  False  False  False  False  False  False  False  False  False   \n",
       "3      False  False  False  False  False  False  False  False  False  False   \n",
       "4      False  False  False  False  False  False  False  False  False  False   \n",
       "...      ...    ...    ...    ...    ...    ...    ...    ...    ...    ...   \n",
       "95407  False  False  False  False  False  False  False  False  False  False   \n",
       "95408  False  False  False  False  False  False  False  False  False  False   \n",
       "95409  False  False  False  False  False  False  False  False  False  False   \n",
       "95410  False  False  False  False  False  False  False  False  False  False   \n",
       "95411  False  False  False  False  False  False  False  False  False  False   \n",
       "\n",
       "        HVP3   HVP4   HVP5   HVP6   HUR1   HUR2   RHP1   RHP2   RHP3   RHP4  \\\n",
       "0      False  False  False  False  False  False  False  False  False  False   \n",
       "1      False  False  False  False  False  False  False  False  False  False   \n",
       "2      False  False  False  False  False  False  False  False  False  False   \n",
       "3      False  False  False  False  False  False  False  False  False  False   \n",
       "4      False  False  False  False  False  False  False  False  False  False   \n",
       "...      ...    ...    ...    ...    ...    ...    ...    ...    ...    ...   \n",
       "95407  False  False  False  False  False  False  False  False  False  False   \n",
       "95408  False  False  False  False  False  False  False  False  False  False   \n",
       "95409  False  False  False  False  False  False  False  False  False  False   \n",
       "95410  False  False  False  False  False  False  False  False  False  False   \n",
       "95411  False  False  False  False  False  False  False  False  False  False   \n",
       "\n",
       "       HUPA1  HUPA2  HUPA3  HUPA4  HUPA5  HUPA6  HUPA7    RP1    RP2    RP3  \\\n",
       "0      False  False  False  False  False  False  False  False  False  False   \n",
       "1      False  False  False  False  False  False  False  False  False  False   \n",
       "2      False  False  False  False  False  False  False  False  False  False   \n",
       "3      False  False  False  False  False  False  False  False  False  False   \n",
       "4      False  False  False  False  False  False  False  False  False  False   \n",
       "...      ...    ...    ...    ...    ...    ...    ...    ...    ...    ...   \n",
       "95407  False  False  False  False  False  False  False  False  False  False   \n",
       "95408  False  False  False  False  False  False  False  False  False  False   \n",
       "95409  False  False  False  False  False  False  False  False  False  False   \n",
       "95410  False  False  False  False  False  False  False  False  False  False   \n",
       "95411  False  False  False  False  False  False  False  False  False  False   \n",
       "\n",
       "         RP4    MSA    ADI    DMA    IC1    IC2    IC3    IC4    IC5    IC6  \\\n",
       "0      False  False  False  False  False  False  False  False  False  False   \n",
       "1      False  False  False  False  False  False  False  False  False  False   \n",
       "2      False  False  False  False  False  False  False  False  False  False   \n",
       "3      False  False  False  False  False  False  False  False  False  False   \n",
       "4      False  False  False  False  False  False  False  False  False  False   \n",
       "...      ...    ...    ...    ...    ...    ...    ...    ...    ...    ...   \n",
       "95407  False  False  False  False  False  False  False  False  False  False   \n",
       "95408  False  False  False  False  False  False  False  False  False  False   \n",
       "95409  False  False  False  False  False  False  False  False  False  False   \n",
       "95410  False  False  False  False  False  False  False  False  False  False   \n",
       "95411  False  False  False  False  False  False  False  False  False  False   \n",
       "\n",
       "         IC7    IC8    IC9   IC10   IC11   IC12   IC13   IC14   IC15   IC16  \\\n",
       "0      False  False  False  False  False  False  False  False  False  False   \n",
       "1      False  False  False  False  False  False  False  False  False  False   \n",
       "2      False  False  False  False  False  False  False  False  False  False   \n",
       "3      False  False  False  False  False  False  False  False  False  False   \n",
       "4      False  False  False  False  False  False  False  False  False  False   \n",
       "...      ...    ...    ...    ...    ...    ...    ...    ...    ...    ...   \n",
       "95407  False  False  False  False  False  False  False  False  False  False   \n",
       "95408  False  False  False  False  False  False  False  False  False  False   \n",
       "95409  False  False  False  False  False  False  False  False  False  False   \n",
       "95410  False  False  False  False  False  False  False  False  False  False   \n",
       "95411  False  False  False  False  False  False  False  False  False  False   \n",
       "\n",
       "        IC17   IC18   IC19   IC20   IC21   IC22   IC23  HHAS1  HHAS2  HHAS3  \\\n",
       "0      False  False  False  False  False  False  False  False  False  False   \n",
       "1      False  False  False  False  False  False  False  False  False  False   \n",
       "2      False  False  False  False  False  False  False  False  False  False   \n",
       "3      False  False  False  False  False  False  False  False  False  False   \n",
       "4      False  False  False  False  False  False  False  False  False  False   \n",
       "...      ...    ...    ...    ...    ...    ...    ...    ...    ...    ...   \n",
       "95407  False  False  False  False  False  False  False  False  False  False   \n",
       "95408  False  False  False  False  False  False  False  False  False  False   \n",
       "95409  False  False  False  False  False  False  False  False  False  False   \n",
       "95410  False  False  False  False  False  False  False  False  False  False   \n",
       "95411  False  False  False  False  False  False  False  False  False  False   \n",
       "\n",
       "       HHAS4    MC1    MC2    MC3   TPE1   TPE2   TPE3   TPE4   TPE5   TPE6  \\\n",
       "0      False  False  False  False  False  False  False  False  False  False   \n",
       "1      False  False  False  False  False  False  False  False  False  False   \n",
       "2      False  False  False  False  False  False  False  False  False  False   \n",
       "3      False  False  False  False  False  False  False  False  False  False   \n",
       "4      False  False  False  False  False  False  False  False  False  False   \n",
       "...      ...    ...    ...    ...    ...    ...    ...    ...    ...    ...   \n",
       "95407  False  False  False  False  False  False  False  False  False  False   \n",
       "95408  False  False  False  False  False  False  False  False  False  False   \n",
       "95409  False  False  False  False  False  False  False  False  False  False   \n",
       "95410  False  False  False  False  False  False  False  False  False  False   \n",
       "95411  False  False  False  False  False  False  False  False  False  False   \n",
       "\n",
       "        TPE7   TPE8   TPE9   PEC1   PEC2  TPE10  TPE11  TPE12  TPE13   LFC1  \\\n",
       "0      False  False  False  False  False  False  False  False  False  False   \n",
       "1      False  False  False  False  False  False  False  False  False  False   \n",
       "2      False  False  False  False  False  False  False  False  False  False   \n",
       "3      False  False  False  False  False  False  False  False  False  False   \n",
       "4      False  False  False  False  False  False  False  False  False  False   \n",
       "...      ...    ...    ...    ...    ...    ...    ...    ...    ...    ...   \n",
       "95407  False  False  False  False  False  False  False  False  False  False   \n",
       "95408  False  False  False  False  False  False  False  False  False  False   \n",
       "95409  False  False  False  False  False  False  False  False  False  False   \n",
       "95410  False  False  False  False  False  False  False  False  False  False   \n",
       "95411  False  False  False  False  False  False  False  False  False  False   \n",
       "\n",
       "        LFC2   LFC3   LFC4   LFC5   LFC6   LFC7   LFC8   LFC9  LFC10   OCC1  \\\n",
       "0      False  False  False  False  False  False  False  False  False  False   \n",
       "1      False  False  False  False  False  False  False  False  False  False   \n",
       "2      False  False  False  False  False  False  False  False  False  False   \n",
       "3      False  False  False  False  False  False  False  False  False  False   \n",
       "4      False  False  False  False  False  False  False  False  False  False   \n",
       "...      ...    ...    ...    ...    ...    ...    ...    ...    ...    ...   \n",
       "95407  False  False  False  False  False  False  False  False  False  False   \n",
       "95408  False  False  False  False  False  False  False  False  False  False   \n",
       "95409  False  False  False  False  False  False  False  False  False  False   \n",
       "95410  False  False  False  False  False  False  False  False  False  False   \n",
       "95411  False  False  False  False  False  False  False  False  False  False   \n",
       "\n",
       "        OCC2   OCC3   OCC4   OCC5   OCC6   OCC7   OCC8   OCC9  OCC10  OCC11  \\\n",
       "0      False  False  False  False  False  False  False  False  False  False   \n",
       "1      False  False  False  False  False  False  False  False  False  False   \n",
       "2      False  False  False  False  False  False  False  False  False  False   \n",
       "3      False  False  False  False  False  False  False  False  False  False   \n",
       "4      False  False  False  False  False  False  False  False  False  False   \n",
       "...      ...    ...    ...    ...    ...    ...    ...    ...    ...    ...   \n",
       "95407  False  False  False  False  False  False  False  False  False  False   \n",
       "95408  False  False  False  False  False  False  False  False  False  False   \n",
       "95409  False  False  False  False  False  False  False  False  False  False   \n",
       "95410  False  False  False  False  False  False  False  False  False  False   \n",
       "95411  False  False  False  False  False  False  False  False  False  False   \n",
       "\n",
       "       OCC12  OCC13   EIC1   EIC2   EIC3   EIC4   EIC5   EIC6   EIC7   EIC8  \\\n",
       "0      False  False  False  False  False  False  False  False  False  False   \n",
       "1      False  False  False  False  False  False  False  False  False  False   \n",
       "2      False  False  False  False  False  False  False  False  False  False   \n",
       "3      False  False  False  False  False  False  False  False  False  False   \n",
       "4      False  False  False  False  False  False  False  False  False  False   \n",
       "...      ...    ...    ...    ...    ...    ...    ...    ...    ...    ...   \n",
       "95407  False  False  False  False  False  False  False  False  False  False   \n",
       "95408  False  False  False  False  False  False  False  False  False  False   \n",
       "95409  False  False  False  False  False  False  False  False  False  False   \n",
       "95410  False  False  False  False  False  False  False  False  False  False   \n",
       "95411  False  False  False  False  False  False  False  False  False  False   \n",
       "\n",
       "        EIC9  EIC10  EIC11  EIC12  EIC13  EIC14  EIC15  EIC16  OEDC1  OEDC2  \\\n",
       "0      False  False  False  False  False  False  False  False  False  False   \n",
       "1      False  False  False  False  False  False  False  False  False  False   \n",
       "2      False  False  False  False  False  False  False  False  False  False   \n",
       "3      False  False  False  False  False  False  False  False  False  False   \n",
       "4      False  False  False  False  False  False  False  False  False  False   \n",
       "...      ...    ...    ...    ...    ...    ...    ...    ...    ...    ...   \n",
       "95407  False  False  False  False  False  False  False  False  False  False   \n",
       "95408  False  False  False  False  False  False  False  False  False  False   \n",
       "95409  False  False  False  False  False  False  False  False  False  False   \n",
       "95410  False  False  False  False  False  False  False  False  False  False   \n",
       "95411  False  False  False  False  False  False  False  False  False  False   \n",
       "\n",
       "       OEDC3  OEDC4  OEDC5  OEDC6  OEDC7    EC1    EC2    EC3    EC4    EC5  \\\n",
       "0      False  False  False  False  False  False  False  False  False  False   \n",
       "1      False  False  False  False  False  False  False  False  False  False   \n",
       "2      False  False  False  False  False  False  False  False  False  False   \n",
       "3      False  False  False  False  False  False  False  False  False  False   \n",
       "4      False  False  False  False  False  False  False  False  False  False   \n",
       "...      ...    ...    ...    ...    ...    ...    ...    ...    ...    ...   \n",
       "95407  False  False  False  False  False  False  False  False  False  False   \n",
       "95408  False  False  False  False  False  False  False  False  False  False   \n",
       "95409  False  False  False  False  False  False  False  False  False  False   \n",
       "95410  False  False  False  False  False  False  False  False  False  False   \n",
       "95411  False  False  False  False  False  False  False  False  False  False   \n",
       "\n",
       "         EC6    EC7    EC8   SEC1   SEC2   SEC3   SEC4   SEC5   AFC1   AFC2  \\\n",
       "0      False  False  False  False  False  False  False  False  False  False   \n",
       "1      False  False  False  False  False  False  False  False  False  False   \n",
       "2      False  False  False  False  False  False  False  False  False  False   \n",
       "3      False  False  False  False  False  False  False  False  False  False   \n",
       "4      False  False  False  False  False  False  False  False  False  False   \n",
       "...      ...    ...    ...    ...    ...    ...    ...    ...    ...    ...   \n",
       "95407  False  False  False  False  False  False  False  False  False  False   \n",
       "95408  False  False  False  False  False  False  False  False  False  False   \n",
       "95409  False  False  False  False  False  False  False  False  False  False   \n",
       "95410  False  False  False  False  False  False  False  False  False  False   \n",
       "95411  False  False  False  False  False  False  False  False  False  False   \n",
       "\n",
       "        AFC3   AFC4   AFC5   AFC6    VC1    VC2    VC3    VC4   ANC1   ANC2  \\\n",
       "0      False  False  False  False  False  False  False  False  False  False   \n",
       "1      False  False  False  False  False  False  False  False  False  False   \n",
       "2      False  False  False  False  False  False  False  False  False  False   \n",
       "3      False  False  False  False  False  False  False  False  False  False   \n",
       "4      False  False  False  False  False  False  False  False  False  False   \n",
       "...      ...    ...    ...    ...    ...    ...    ...    ...    ...    ...   \n",
       "95407  False  False  False  False  False  False  False  False  False  False   \n",
       "95408  False  False  False  False  False  False  False  False  False  False   \n",
       "95409  False  False  False  False  False  False  False  False  False  False   \n",
       "95410  False  False  False  False  False  False  False  False  False  False   \n",
       "95411  False  False  False  False  False  False  False  False  False  False   \n",
       "\n",
       "        ANC3   ANC4   ANC5   ANC6   ANC7   ANC8   ANC9  ANC10  ANC11  ANC12  \\\n",
       "0      False  False  False  False  False  False  False  False  False  False   \n",
       "1      False  False  False  False  False  False  False  False  False  False   \n",
       "2      False  False  False  False  False  False  False  False  False  False   \n",
       "3      False  False  False  False  False  False  False  False  False  False   \n",
       "4      False  False  False  False  False  False  False  False  False  False   \n",
       "...      ...    ...    ...    ...    ...    ...    ...    ...    ...    ...   \n",
       "95407  False  False  False  False  False  False  False  False  False  False   \n",
       "95408  False  False  False  False  False  False  False  False  False  False   \n",
       "95409  False  False  False  False  False  False  False  False  False  False   \n",
       "95410  False  False  False  False  False  False  False  False  False  False   \n",
       "95411  False  False  False  False  False  False  False  False  False  False   \n",
       "\n",
       "       ANC13  ANC14  ANC15  POBC1  POBC2   LSC1   LSC2   LSC3   LSC4   VOC1  \\\n",
       "0      False  False  False  False  False  False  False  False  False  False   \n",
       "1      False  False  False  False  False  False  False  False  False  False   \n",
       "2      False  False  False  False  False  False  False  False  False  False   \n",
       "3      False  False  False  False  False  False  False  False  False  False   \n",
       "4      False  False  False  False  False  False  False  False  False  False   \n",
       "...      ...    ...    ...    ...    ...    ...    ...    ...    ...    ...   \n",
       "95407  False  False  False  False  False  False  False  False  False  False   \n",
       "95408  False  False  False  False  False  False  False  False  False  False   \n",
       "95409  False  False  False  False  False  False  False  False  False  False   \n",
       "95410  False  False  False  False  False  False  False  False  False  False   \n",
       "95411  False  False  False  False  False  False  False  False  False  False   \n",
       "\n",
       "        VOC2   VOC3    HC1    HC2    HC3    HC4    HC5    HC6    HC7    HC8  \\\n",
       "0      False  False  False  False  False  False  False  False  False  False   \n",
       "1      False  False  False  False  False  False  False  False  False  False   \n",
       "2      False  False  False  False  False  False  False  False  False  False   \n",
       "3      False  False  False  False  False  False  False  False  False  False   \n",
       "4      False  False  False  False  False  False  False  False  False  False   \n",
       "...      ...    ...    ...    ...    ...    ...    ...    ...    ...    ...   \n",
       "95407  False  False  False  False  False  False  False  False  False  False   \n",
       "95408  False  False  False  False  False  False  False  False  False  False   \n",
       "95409  False  False  False  False  False  False  False  False  False  False   \n",
       "95410  False  False  False  False  False  False  False  False  False  False   \n",
       "95411  False  False  False  False  False  False  False  False  False  False   \n",
       "\n",
       "         HC9   HC10   HC11   HC12   HC13   HC14   HC15   HC16   HC17   HC18  \\\n",
       "0      False  False  False  False  False  False  False  False  False  False   \n",
       "1      False  False  False  False  False  False  False  False  False  False   \n",
       "2      False  False  False  False  False  False  False  False  False  False   \n",
       "3      False  False  False  False  False  False  False  False  False  False   \n",
       "4      False  False  False  False  False  False  False  False  False  False   \n",
       "...      ...    ...    ...    ...    ...    ...    ...    ...    ...    ...   \n",
       "95407  False  False  False  False  False  False  False  False  False  False   \n",
       "95408  False  False  False  False  False  False  False  False  False  False   \n",
       "95409  False  False  False  False  False  False  False  False  False  False   \n",
       "95410  False  False  False  False  False  False  False  False  False  False   \n",
       "95411  False  False  False  False  False  False  False  False  False  False   \n",
       "\n",
       "        HC19   HC20   HC21  MHUC1  MHUC2    AC1    AC2  CARDPROM  NUMPROM  \\\n",
       "0      False  False  False  False  False  False  False     False    False   \n",
       "1      False  False  False  False  False  False  False     False    False   \n",
       "2      False  False  False  False  False  False  False     False    False   \n",
       "3      False  False  False  False  False  False  False     False    False   \n",
       "4      False  False  False  False  False  False  False     False    False   \n",
       "...      ...    ...    ...    ...    ...    ...    ...       ...      ...   \n",
       "95407  False  False  False  False  False  False  False     False    False   \n",
       "95408  False  False  False  False  False  False  False     False    False   \n",
       "95409  False  False  False  False  False  False  False     False    False   \n",
       "95410  False  False  False  False  False  False  False     False    False   \n",
       "95411  False  False  False  False  False  False  False     False    False   \n",
       "\n",
       "       CARDPM12  NUMPRM12  RAMNTALL  NGIFTALL  CARDGIFT  MINRAMNT  MAXRAMNT  \\\n",
       "0         False     False     False     False     False     False     False   \n",
       "1         False     False     False     False     False     False     False   \n",
       "2         False     False     False     False     False     False     False   \n",
       "3         False     False     False     False     False     False     False   \n",
       "4         False     False     False     False     False     False     False   \n",
       "...         ...       ...       ...       ...       ...       ...       ...   \n",
       "95407     False     False     False     False     False     False     False   \n",
       "95408     False     False     False     False     False     False     False   \n",
       "95409     False     False     False     False     False     False     False   \n",
       "95410     False     False     False     False     False     False     False   \n",
       "95411     False     False     False     False     False     False     False   \n",
       "\n",
       "       LASTGIFT  TIMELAG  AVGGIFT  CONTROLN  HPHONE_D  RFA_2F  CLUSTER2  \n",
       "0         False    False    False     False     False   False     False  \n",
       "1         False    False    False     False     False   False     False  \n",
       "2         False    False    False     False     False   False     False  \n",
       "3         False    False    False     False     False   False     False  \n",
       "4         False    False    False     False     False   False     False  \n",
       "...         ...      ...      ...       ...       ...     ...       ...  \n",
       "95407     False    False    False     False     False   False     False  \n",
       "95408     False    False    False     False     False   False     False  \n",
       "95409     False    False    False     False     False   False     False  \n",
       "95410     False    False    False     False     False   False     False  \n",
       "95411     False    False    False     False     False   False     False  \n",
       "\n",
       "[95412 rows x 315 columns]>"
      ]
     },
     "execution_count": 74,
     "metadata": {},
     "output_type": "execute_result"
    }
   ],
   "source": [
    "num.isna().value_counts"
   ]
  },
  {
   "cell_type": "code",
   "execution_count": 75,
   "id": "6db78e3e",
   "metadata": {},
   "outputs": [
    {
     "data": {
      "text/plain": [
       "(array([], dtype=int64), array([], dtype=int64))"
      ]
     },
     "execution_count": 75,
     "metadata": {},
     "output_type": "execute_result"
    }
   ],
   "source": [
    "np.where(pd.isnull(num))"
   ]
  },
  {
   "cell_type": "code",
   "execution_count": 76,
   "id": "64104237",
   "metadata": {},
   "outputs": [
    {
     "data": {
      "text/plain": [
       "(array([], dtype=int64), array([], dtype=int64))"
      ]
     },
     "execution_count": 76,
     "metadata": {},
     "output_type": "execute_result"
    }
   ],
   "source": [
    "np.where(num.applymap(lambda x: x == ''))"
   ]
  },
  {
   "cell_type": "markdown",
   "id": "ccc35692",
   "metadata": {},
   "source": [
    "## Dummifying the categorical data"
   ]
  },
  {
   "cell_type": "code",
   "execution_count": 77,
   "id": "d6a6539d",
   "metadata": {},
   "outputs": [
    {
     "data": {
      "text/plain": [
       "STATE           object\n",
       "CLUSTER          int64\n",
       "HOMEOWNR        object\n",
       "GENDER          object\n",
       "DATASRCE         int64\n",
       "RFA_2R          object\n",
       "RFA_2A          object\n",
       "GEOCODE2        object\n",
       "DOMAIN_A        object\n",
       "DOMAIN_B         int64\n",
       "ODATEW_YR        int64\n",
       "ODATEW_MM        int64\n",
       "DOB_YR           int64\n",
       "DOB_MM           int64\n",
       "MINRDATE_YR      int64\n",
       "MINRDATE_MM      int64\n",
       "MAXRDATE_YR      int64\n",
       "MAXRDATE_MM      int64\n",
       "LASTDATE_YR      int64\n",
       "LASTDATE_MM      int64\n",
       "FIRSTDATE_YR     int64\n",
       "FIRSTDATE_MM     int64\n",
       "dtype: object"
      ]
     },
     "execution_count": 77,
     "metadata": {},
     "output_type": "execute_result"
    }
   ],
   "source": [
    "cat.dtypes"
   ]
  },
  {
   "cell_type": "code",
   "execution_count": 78,
   "id": "8ef39cd6",
   "metadata": {
    "scrolled": true
   },
   "outputs": [
    {
     "data": {
      "text/plain": [
       "STATE           12\n",
       "CLUSTER         53\n",
       "HOMEOWNR         2\n",
       "GENDER           3\n",
       "DATASRCE         3\n",
       "RFA_2R           1\n",
       "RFA_2A           4\n",
       "GEOCODE2         4\n",
       "DOMAIN_A         5\n",
       "DOMAIN_B         4\n",
       "ODATEW_YR       15\n",
       "ODATEW_MM       12\n",
       "DOB_YR          96\n",
       "DOB_MM          12\n",
       "MINRDATE_YR     20\n",
       "MINRDATE_MM     12\n",
       "MAXRDATE_YR     18\n",
       "MAXRDATE_MM     12\n",
       "LASTDATE_YR      3\n",
       "LASTDATE_MM     12\n",
       "FIRSTDATE_YR    26\n",
       "FIRSTDATE_MM    12\n",
       "dtype: int64"
      ]
     },
     "execution_count": 78,
     "metadata": {},
     "output_type": "execute_result"
    }
   ],
   "source": [
    "cat.nunique(dropna=False)"
   ]
  },
  {
   "cell_type": "code",
   "execution_count": 79,
   "id": "3e106a9b",
   "metadata": {},
   "outputs": [
    {
     "data": {
      "text/plain": [
       "array(['IL', 'CA', 'NC', 'FL', 'other', 'IN', 'MI', 'MO', 'TX', 'WA',\n",
       "       'WI', 'GA'], dtype=object)"
      ]
     },
     "execution_count": 79,
     "metadata": {},
     "output_type": "execute_result"
    }
   ],
   "source": [
    "cat[ 'STATE'].unique()"
   ]
  },
  {
   "cell_type": "code",
   "execution_count": 80,
   "id": "60e39371",
   "metadata": {},
   "outputs": [
    {
     "data": {
      "text/plain": [
       "H    74582\n",
       "U    20830\n",
       "Name: HOMEOWNR, dtype: int64"
      ]
     },
     "execution_count": 80,
     "metadata": {},
     "output_type": "execute_result"
    }
   ],
   "source": [
    "cat[ 'HOMEOWNR'].value_counts()"
   ]
  },
  {
   "cell_type": "code",
   "execution_count": 81,
   "id": "c3930497",
   "metadata": {},
   "outputs": [
    {
     "data": {
      "text/plain": [
       "array(['F', 'M', 'other'], dtype=object)"
      ]
     },
     "execution_count": 81,
     "metadata": {},
     "output_type": "execute_result"
    }
   ],
   "source": [
    "cat[ 'GENDER'].unique()"
   ]
  },
  {
   "cell_type": "code",
   "execution_count": 82,
   "id": "88124040",
   "metadata": {},
   "outputs": [
    {
     "data": {
      "text/plain": [
       "array(['L'], dtype=object)"
      ]
     },
     "execution_count": 82,
     "metadata": {},
     "output_type": "execute_result"
    }
   ],
   "source": [
    "cat[ 'RFA_2R'].unique() #we drop this column."
   ]
  },
  {
   "cell_type": "code",
   "execution_count": 83,
   "id": "c6b2277c",
   "metadata": {},
   "outputs": [
    {
     "data": {
      "text/plain": [
       "array(['E', 'G', 'F', 'D'], dtype=object)"
      ]
     },
     "execution_count": 83,
     "metadata": {},
     "output_type": "execute_result"
    }
   ],
   "source": [
    "cat[ 'RFA_2A'].unique()"
   ]
  },
  {
   "cell_type": "code",
   "execution_count": 84,
   "id": "20fd9aef",
   "metadata": {},
   "outputs": [
    {
     "data": {
      "text/plain": [
       "array(['C', 'A', 'D', 'B'], dtype=object)"
      ]
     },
     "execution_count": 84,
     "metadata": {},
     "output_type": "execute_result"
    }
   ],
   "source": [
    "cat[ 'GEOCODE2'].unique()"
   ]
  },
  {
   "cell_type": "code",
   "execution_count": 85,
   "id": "6e67006e",
   "metadata": {
    "scrolled": true
   },
   "outputs": [
    {
     "data": {
      "text/plain": [
       "array(['T', 'S', 'R', 'U', 'C'], dtype=object)"
      ]
     },
     "execution_count": 85,
     "metadata": {},
     "output_type": "execute_result"
    }
   ],
   "source": [
    "cat[ 'DOMAIN_A'].unique()"
   ]
  },
  {
   "cell_type": "code",
   "execution_count": 86,
   "id": "09bc2cb1",
   "metadata": {},
   "outputs": [
    {
     "data": {
      "text/html": [
       "<div>\n",
       "<style scoped>\n",
       "    .dataframe tbody tr th:only-of-type {\n",
       "        vertical-align: middle;\n",
       "    }\n",
       "\n",
       "    .dataframe tbody tr th {\n",
       "        vertical-align: top;\n",
       "    }\n",
       "\n",
       "    .dataframe thead th {\n",
       "        text-align: right;\n",
       "    }\n",
       "</style>\n",
       "<table border=\"1\" class=\"dataframe\">\n",
       "  <thead>\n",
       "    <tr style=\"text-align: right;\">\n",
       "      <th></th>\n",
       "      <th>STATE</th>\n",
       "      <th>HOMEOWNR</th>\n",
       "      <th>GENDER</th>\n",
       "      <th>GEOCODE2</th>\n",
       "      <th>RFA_2A</th>\n",
       "      <th>DOMAIN_A</th>\n",
       "    </tr>\n",
       "  </thead>\n",
       "  <tbody>\n",
       "    <tr>\n",
       "      <th>0</th>\n",
       "      <td>IL</td>\n",
       "      <td>H</td>\n",
       "      <td>F</td>\n",
       "      <td>C</td>\n",
       "      <td>E</td>\n",
       "      <td>T</td>\n",
       "    </tr>\n",
       "    <tr>\n",
       "      <th>1</th>\n",
       "      <td>CA</td>\n",
       "      <td>H</td>\n",
       "      <td>M</td>\n",
       "      <td>A</td>\n",
       "      <td>G</td>\n",
       "      <td>S</td>\n",
       "    </tr>\n",
       "    <tr>\n",
       "      <th>2</th>\n",
       "      <td>NC</td>\n",
       "      <td>U</td>\n",
       "      <td>M</td>\n",
       "      <td>C</td>\n",
       "      <td>E</td>\n",
       "      <td>R</td>\n",
       "    </tr>\n",
       "    <tr>\n",
       "      <th>3</th>\n",
       "      <td>CA</td>\n",
       "      <td>U</td>\n",
       "      <td>F</td>\n",
       "      <td>C</td>\n",
       "      <td>E</td>\n",
       "      <td>R</td>\n",
       "    </tr>\n",
       "    <tr>\n",
       "      <th>4</th>\n",
       "      <td>FL</td>\n",
       "      <td>H</td>\n",
       "      <td>F</td>\n",
       "      <td>A</td>\n",
       "      <td>F</td>\n",
       "      <td>S</td>\n",
       "    </tr>\n",
       "    <tr>\n",
       "      <th>...</th>\n",
       "      <td>...</td>\n",
       "      <td>...</td>\n",
       "      <td>...</td>\n",
       "      <td>...</td>\n",
       "      <td>...</td>\n",
       "      <td>...</td>\n",
       "    </tr>\n",
       "    <tr>\n",
       "      <th>95407</th>\n",
       "      <td>other</td>\n",
       "      <td>H</td>\n",
       "      <td>M</td>\n",
       "      <td>C</td>\n",
       "      <td>G</td>\n",
       "      <td>C</td>\n",
       "    </tr>\n",
       "    <tr>\n",
       "      <th>95408</th>\n",
       "      <td>TX</td>\n",
       "      <td>H</td>\n",
       "      <td>M</td>\n",
       "      <td>A</td>\n",
       "      <td>F</td>\n",
       "      <td>C</td>\n",
       "    </tr>\n",
       "    <tr>\n",
       "      <th>95409</th>\n",
       "      <td>MI</td>\n",
       "      <td>H</td>\n",
       "      <td>M</td>\n",
       "      <td>B</td>\n",
       "      <td>E</td>\n",
       "      <td>C</td>\n",
       "    </tr>\n",
       "    <tr>\n",
       "      <th>95410</th>\n",
       "      <td>CA</td>\n",
       "      <td>H</td>\n",
       "      <td>F</td>\n",
       "      <td>A</td>\n",
       "      <td>F</td>\n",
       "      <td>C</td>\n",
       "    </tr>\n",
       "    <tr>\n",
       "      <th>95411</th>\n",
       "      <td>NC</td>\n",
       "      <td>U</td>\n",
       "      <td>F</td>\n",
       "      <td>C</td>\n",
       "      <td>G</td>\n",
       "      <td>C</td>\n",
       "    </tr>\n",
       "  </tbody>\n",
       "</table>\n",
       "<p>95412 rows × 6 columns</p>\n",
       "</div>"
      ],
      "text/plain": [
       "       STATE HOMEOWNR GENDER GEOCODE2 RFA_2A DOMAIN_A\n",
       "0         IL        H      F        C      E        T\n",
       "1         CA        H      M        A      G        S\n",
       "2         NC        U      M        C      E        R\n",
       "3         CA        U      F        C      E        R\n",
       "4         FL        H      F        A      F        S\n",
       "...      ...      ...    ...      ...    ...      ...\n",
       "95407  other        H      M        C      G        C\n",
       "95408     TX        H      M        A      F        C\n",
       "95409     MI        H      M        B      E        C\n",
       "95410     CA        H      F        A      F        C\n",
       "95411     NC        U      F        C      G        C\n",
       "\n",
       "[95412 rows x 6 columns]"
      ]
     },
     "execution_count": 86,
     "metadata": {},
     "output_type": "execute_result"
    }
   ],
   "source": [
    "cat[['STATE','HOMEOWNR','GENDER', 'GEOCODE2', 'RFA_2A', 'DOMAIN_A']]\n"
   ]
  },
  {
   "cell_type": "code",
   "execution_count": 87,
   "id": "d5f4930f",
   "metadata": {},
   "outputs": [
    {
     "data": {
      "text/html": [
       "<div>\n",
       "<style scoped>\n",
       "    .dataframe tbody tr th:only-of-type {\n",
       "        vertical-align: middle;\n",
       "    }\n",
       "\n",
       "    .dataframe tbody tr th {\n",
       "        vertical-align: top;\n",
       "    }\n",
       "\n",
       "    .dataframe thead th {\n",
       "        text-align: right;\n",
       "    }\n",
       "</style>\n",
       "<table border=\"1\" class=\"dataframe\">\n",
       "  <thead>\n",
       "    <tr style=\"text-align: right;\">\n",
       "      <th></th>\n",
       "      <th>CA</th>\n",
       "      <th>FL</th>\n",
       "      <th>GA</th>\n",
       "      <th>IL</th>\n",
       "      <th>IN</th>\n",
       "      <th>MI</th>\n",
       "      <th>MO</th>\n",
       "      <th>NC</th>\n",
       "      <th>TX</th>\n",
       "      <th>WA</th>\n",
       "      <th>WI</th>\n",
       "      <th>other</th>\n",
       "    </tr>\n",
       "  </thead>\n",
       "  <tbody>\n",
       "    <tr>\n",
       "      <th>0</th>\n",
       "      <td>0</td>\n",
       "      <td>0</td>\n",
       "      <td>0</td>\n",
       "      <td>1</td>\n",
       "      <td>0</td>\n",
       "      <td>0</td>\n",
       "      <td>0</td>\n",
       "      <td>0</td>\n",
       "      <td>0</td>\n",
       "      <td>0</td>\n",
       "      <td>0</td>\n",
       "      <td>0</td>\n",
       "    </tr>\n",
       "    <tr>\n",
       "      <th>1</th>\n",
       "      <td>1</td>\n",
       "      <td>0</td>\n",
       "      <td>0</td>\n",
       "      <td>0</td>\n",
       "      <td>0</td>\n",
       "      <td>0</td>\n",
       "      <td>0</td>\n",
       "      <td>0</td>\n",
       "      <td>0</td>\n",
       "      <td>0</td>\n",
       "      <td>0</td>\n",
       "      <td>0</td>\n",
       "    </tr>\n",
       "    <tr>\n",
       "      <th>2</th>\n",
       "      <td>0</td>\n",
       "      <td>0</td>\n",
       "      <td>0</td>\n",
       "      <td>0</td>\n",
       "      <td>0</td>\n",
       "      <td>0</td>\n",
       "      <td>0</td>\n",
       "      <td>1</td>\n",
       "      <td>0</td>\n",
       "      <td>0</td>\n",
       "      <td>0</td>\n",
       "      <td>0</td>\n",
       "    </tr>\n",
       "    <tr>\n",
       "      <th>3</th>\n",
       "      <td>1</td>\n",
       "      <td>0</td>\n",
       "      <td>0</td>\n",
       "      <td>0</td>\n",
       "      <td>0</td>\n",
       "      <td>0</td>\n",
       "      <td>0</td>\n",
       "      <td>0</td>\n",
       "      <td>0</td>\n",
       "      <td>0</td>\n",
       "      <td>0</td>\n",
       "      <td>0</td>\n",
       "    </tr>\n",
       "    <tr>\n",
       "      <th>4</th>\n",
       "      <td>0</td>\n",
       "      <td>1</td>\n",
       "      <td>0</td>\n",
       "      <td>0</td>\n",
       "      <td>0</td>\n",
       "      <td>0</td>\n",
       "      <td>0</td>\n",
       "      <td>0</td>\n",
       "      <td>0</td>\n",
       "      <td>0</td>\n",
       "      <td>0</td>\n",
       "      <td>0</td>\n",
       "    </tr>\n",
       "    <tr>\n",
       "      <th>...</th>\n",
       "      <td>...</td>\n",
       "      <td>...</td>\n",
       "      <td>...</td>\n",
       "      <td>...</td>\n",
       "      <td>...</td>\n",
       "      <td>...</td>\n",
       "      <td>...</td>\n",
       "      <td>...</td>\n",
       "      <td>...</td>\n",
       "      <td>...</td>\n",
       "      <td>...</td>\n",
       "      <td>...</td>\n",
       "    </tr>\n",
       "    <tr>\n",
       "      <th>95407</th>\n",
       "      <td>0</td>\n",
       "      <td>0</td>\n",
       "      <td>0</td>\n",
       "      <td>0</td>\n",
       "      <td>0</td>\n",
       "      <td>0</td>\n",
       "      <td>0</td>\n",
       "      <td>0</td>\n",
       "      <td>0</td>\n",
       "      <td>0</td>\n",
       "      <td>0</td>\n",
       "      <td>1</td>\n",
       "    </tr>\n",
       "    <tr>\n",
       "      <th>95408</th>\n",
       "      <td>0</td>\n",
       "      <td>0</td>\n",
       "      <td>0</td>\n",
       "      <td>0</td>\n",
       "      <td>0</td>\n",
       "      <td>0</td>\n",
       "      <td>0</td>\n",
       "      <td>0</td>\n",
       "      <td>1</td>\n",
       "      <td>0</td>\n",
       "      <td>0</td>\n",
       "      <td>0</td>\n",
       "    </tr>\n",
       "    <tr>\n",
       "      <th>95409</th>\n",
       "      <td>0</td>\n",
       "      <td>0</td>\n",
       "      <td>0</td>\n",
       "      <td>0</td>\n",
       "      <td>0</td>\n",
       "      <td>1</td>\n",
       "      <td>0</td>\n",
       "      <td>0</td>\n",
       "      <td>0</td>\n",
       "      <td>0</td>\n",
       "      <td>0</td>\n",
       "      <td>0</td>\n",
       "    </tr>\n",
       "    <tr>\n",
       "      <th>95410</th>\n",
       "      <td>1</td>\n",
       "      <td>0</td>\n",
       "      <td>0</td>\n",
       "      <td>0</td>\n",
       "      <td>0</td>\n",
       "      <td>0</td>\n",
       "      <td>0</td>\n",
       "      <td>0</td>\n",
       "      <td>0</td>\n",
       "      <td>0</td>\n",
       "      <td>0</td>\n",
       "      <td>0</td>\n",
       "    </tr>\n",
       "    <tr>\n",
       "      <th>95411</th>\n",
       "      <td>0</td>\n",
       "      <td>0</td>\n",
       "      <td>0</td>\n",
       "      <td>0</td>\n",
       "      <td>0</td>\n",
       "      <td>0</td>\n",
       "      <td>0</td>\n",
       "      <td>1</td>\n",
       "      <td>0</td>\n",
       "      <td>0</td>\n",
       "      <td>0</td>\n",
       "      <td>0</td>\n",
       "    </tr>\n",
       "  </tbody>\n",
       "</table>\n",
       "<p>95412 rows × 12 columns</p>\n",
       "</div>"
      ],
      "text/plain": [
       "       CA  FL  GA  IL  IN  MI  MO  NC  TX  WA  WI  other\n",
       "0       0   0   0   1   0   0   0   0   0   0   0      0\n",
       "1       1   0   0   0   0   0   0   0   0   0   0      0\n",
       "2       0   0   0   0   0   0   0   1   0   0   0      0\n",
       "3       1   0   0   0   0   0   0   0   0   0   0      0\n",
       "4       0   1   0   0   0   0   0   0   0   0   0      0\n",
       "...    ..  ..  ..  ..  ..  ..  ..  ..  ..  ..  ..    ...\n",
       "95407   0   0   0   0   0   0   0   0   0   0   0      1\n",
       "95408   0   0   0   0   0   0   0   0   1   0   0      0\n",
       "95409   0   0   0   0   0   1   0   0   0   0   0      0\n",
       "95410   1   0   0   0   0   0   0   0   0   0   0      0\n",
       "95411   0   0   0   0   0   0   0   1   0   0   0      0\n",
       "\n",
       "[95412 rows x 12 columns]"
      ]
     },
     "execution_count": 87,
     "metadata": {},
     "output_type": "execute_result"
    }
   ],
   "source": [
    "encoder0 = OneHotEncoder()\n",
    "\n",
    "encoder0.fit(cat[['STATE']])\n",
    "col_transf0 = encoder0.transform(cat[['STATE']]).toarray()\n",
    "STATE = pd.DataFrame(col_transf0, columns=encoder0.categories_[0], dtype=int)\n",
    "STATE"
   ]
  },
  {
   "cell_type": "code",
   "execution_count": 88,
   "id": "beb7c970",
   "metadata": {},
   "outputs": [
    {
     "data": {
      "text/plain": [
       "sklearn.preprocessing._encoders.OneHotEncoder"
      ]
     },
     "execution_count": 88,
     "metadata": {},
     "output_type": "execute_result"
    }
   ],
   "source": [
    "encoder = OneHotEncoder()\n",
    "type(encoder)"
   ]
  },
  {
   "cell_type": "code",
   "execution_count": 89,
   "id": "fce53270",
   "metadata": {},
   "outputs": [
    {
     "data": {
      "text/plain": [
       "OneHotEncoder()"
      ]
     },
     "execution_count": 89,
     "metadata": {},
     "output_type": "execute_result"
    }
   ],
   "source": [
    "encoder.fit(cat[['HOMEOWNR']])"
   ]
  },
  {
   "cell_type": "code",
   "execution_count": 90,
   "id": "cba73bea",
   "metadata": {},
   "outputs": [
    {
     "data": {
      "text/plain": [
       "array(['H', 'U'], dtype=object)"
      ]
     },
     "execution_count": 90,
     "metadata": {},
     "output_type": "execute_result"
    }
   ],
   "source": [
    "encoder.categories_[0]"
   ]
  },
  {
   "cell_type": "code",
   "execution_count": 91,
   "id": "2be67758",
   "metadata": {},
   "outputs": [
    {
     "data": {
      "text/plain": [
       "array([[1., 0.],\n",
       "       [1., 0.],\n",
       "       [0., 1.],\n",
       "       ...,\n",
       "       [1., 0.],\n",
       "       [1., 0.],\n",
       "       [0., 1.]])"
      ]
     },
     "execution_count": 91,
     "metadata": {},
     "output_type": "execute_result"
    }
   ],
   "source": [
    "col_transf = encoder.transform(cat[['HOMEOWNR']]).toarray()\n",
    "col_transf"
   ]
  },
  {
   "cell_type": "code",
   "execution_count": 92,
   "id": "d710d805",
   "metadata": {},
   "outputs": [
    {
     "data": {
      "text/plain": [
       "(95412, 2)"
      ]
     },
     "execution_count": 92,
     "metadata": {},
     "output_type": "execute_result"
    }
   ],
   "source": [
    "col_transf.shape"
   ]
  },
  {
   "cell_type": "code",
   "execution_count": 93,
   "id": "805060f6",
   "metadata": {},
   "outputs": [
    {
     "data": {
      "text/plain": [
       "2"
      ]
     },
     "execution_count": 93,
     "metadata": {},
     "output_type": "execute_result"
    }
   ],
   "source": [
    "len(encoder.categories_[0])"
   ]
  },
  {
   "cell_type": "code",
   "execution_count": 94,
   "id": "c06fc5da",
   "metadata": {},
   "outputs": [
    {
     "data": {
      "text/html": [
       "<div>\n",
       "<style scoped>\n",
       "    .dataframe tbody tr th:only-of-type {\n",
       "        vertical-align: middle;\n",
       "    }\n",
       "\n",
       "    .dataframe tbody tr th {\n",
       "        vertical-align: top;\n",
       "    }\n",
       "\n",
       "    .dataframe thead th {\n",
       "        text-align: right;\n",
       "    }\n",
       "</style>\n",
       "<table border=\"1\" class=\"dataframe\">\n",
       "  <thead>\n",
       "    <tr style=\"text-align: right;\">\n",
       "      <th></th>\n",
       "      <th>H</th>\n",
       "      <th>U</th>\n",
       "    </tr>\n",
       "  </thead>\n",
       "  <tbody>\n",
       "    <tr>\n",
       "      <th>0</th>\n",
       "      <td>1</td>\n",
       "      <td>0</td>\n",
       "    </tr>\n",
       "    <tr>\n",
       "      <th>1</th>\n",
       "      <td>1</td>\n",
       "      <td>0</td>\n",
       "    </tr>\n",
       "    <tr>\n",
       "      <th>2</th>\n",
       "      <td>0</td>\n",
       "      <td>1</td>\n",
       "    </tr>\n",
       "    <tr>\n",
       "      <th>3</th>\n",
       "      <td>0</td>\n",
       "      <td>1</td>\n",
       "    </tr>\n",
       "    <tr>\n",
       "      <th>4</th>\n",
       "      <td>1</td>\n",
       "      <td>0</td>\n",
       "    </tr>\n",
       "    <tr>\n",
       "      <th>...</th>\n",
       "      <td>...</td>\n",
       "      <td>...</td>\n",
       "    </tr>\n",
       "    <tr>\n",
       "      <th>95407</th>\n",
       "      <td>1</td>\n",
       "      <td>0</td>\n",
       "    </tr>\n",
       "    <tr>\n",
       "      <th>95408</th>\n",
       "      <td>1</td>\n",
       "      <td>0</td>\n",
       "    </tr>\n",
       "    <tr>\n",
       "      <th>95409</th>\n",
       "      <td>1</td>\n",
       "      <td>0</td>\n",
       "    </tr>\n",
       "    <tr>\n",
       "      <th>95410</th>\n",
       "      <td>1</td>\n",
       "      <td>0</td>\n",
       "    </tr>\n",
       "    <tr>\n",
       "      <th>95411</th>\n",
       "      <td>0</td>\n",
       "      <td>1</td>\n",
       "    </tr>\n",
       "  </tbody>\n",
       "</table>\n",
       "<p>95412 rows × 2 columns</p>\n",
       "</div>"
      ],
      "text/plain": [
       "       H  U\n",
       "0      1  0\n",
       "1      1  0\n",
       "2      0  1\n",
       "3      0  1\n",
       "4      1  0\n",
       "...   .. ..\n",
       "95407  1  0\n",
       "95408  1  0\n",
       "95409  1  0\n",
       "95410  1  0\n",
       "95411  0  1\n",
       "\n",
       "[95412 rows x 2 columns]"
      ]
     },
     "execution_count": 94,
     "metadata": {},
     "output_type": "execute_result"
    }
   ],
   "source": [
    "HOMEOWNR = pd.DataFrame(col_transf, columns=encoder.categories_[0], dtype=int)\n",
    "HOMEOWNR"
   ]
  },
  {
   "cell_type": "code",
   "execution_count": 95,
   "id": "8a0a7d18",
   "metadata": {},
   "outputs": [
    {
     "data": {
      "text/plain": [
       "sklearn.preprocessing._encoders.OneHotEncoder"
      ]
     },
     "execution_count": 95,
     "metadata": {},
     "output_type": "execute_result"
    }
   ],
   "source": [
    "encoder1 = OneHotEncoder()\n",
    "type(encoder1)"
   ]
  },
  {
   "cell_type": "code",
   "execution_count": 96,
   "id": "745fdde8",
   "metadata": {},
   "outputs": [
    {
     "data": {
      "text/plain": [
       "OneHotEncoder()"
      ]
     },
     "execution_count": 96,
     "metadata": {},
     "output_type": "execute_result"
    }
   ],
   "source": [
    "encoder1.fit(cat[['GENDER']])"
   ]
  },
  {
   "cell_type": "code",
   "execution_count": 97,
   "id": "49d6ef7d",
   "metadata": {},
   "outputs": [
    {
     "data": {
      "text/plain": [
       "array([[1., 0., 0.],\n",
       "       [0., 1., 0.],\n",
       "       [0., 1., 0.],\n",
       "       ...,\n",
       "       [0., 1., 0.],\n",
       "       [1., 0., 0.],\n",
       "       [1., 0., 0.]])"
      ]
     },
     "execution_count": 97,
     "metadata": {},
     "output_type": "execute_result"
    }
   ],
   "source": [
    "col_transf1 = encoder1.transform(cat[['GENDER']]).toarray()\n",
    "col_transf1"
   ]
  },
  {
   "cell_type": "code",
   "execution_count": 98,
   "id": "1589a678",
   "metadata": {},
   "outputs": [
    {
     "data": {
      "text/html": [
       "<div>\n",
       "<style scoped>\n",
       "    .dataframe tbody tr th:only-of-type {\n",
       "        vertical-align: middle;\n",
       "    }\n",
       "\n",
       "    .dataframe tbody tr th {\n",
       "        vertical-align: top;\n",
       "    }\n",
       "\n",
       "    .dataframe thead th {\n",
       "        text-align: right;\n",
       "    }\n",
       "</style>\n",
       "<table border=\"1\" class=\"dataframe\">\n",
       "  <thead>\n",
       "    <tr style=\"text-align: right;\">\n",
       "      <th></th>\n",
       "      <th>F</th>\n",
       "      <th>M</th>\n",
       "      <th>other</th>\n",
       "    </tr>\n",
       "  </thead>\n",
       "  <tbody>\n",
       "    <tr>\n",
       "      <th>0</th>\n",
       "      <td>1</td>\n",
       "      <td>0</td>\n",
       "      <td>0</td>\n",
       "    </tr>\n",
       "    <tr>\n",
       "      <th>1</th>\n",
       "      <td>0</td>\n",
       "      <td>1</td>\n",
       "      <td>0</td>\n",
       "    </tr>\n",
       "    <tr>\n",
       "      <th>2</th>\n",
       "      <td>0</td>\n",
       "      <td>1</td>\n",
       "      <td>0</td>\n",
       "    </tr>\n",
       "    <tr>\n",
       "      <th>3</th>\n",
       "      <td>1</td>\n",
       "      <td>0</td>\n",
       "      <td>0</td>\n",
       "    </tr>\n",
       "    <tr>\n",
       "      <th>4</th>\n",
       "      <td>1</td>\n",
       "      <td>0</td>\n",
       "      <td>0</td>\n",
       "    </tr>\n",
       "    <tr>\n",
       "      <th>...</th>\n",
       "      <td>...</td>\n",
       "      <td>...</td>\n",
       "      <td>...</td>\n",
       "    </tr>\n",
       "    <tr>\n",
       "      <th>95407</th>\n",
       "      <td>0</td>\n",
       "      <td>1</td>\n",
       "      <td>0</td>\n",
       "    </tr>\n",
       "    <tr>\n",
       "      <th>95408</th>\n",
       "      <td>0</td>\n",
       "      <td>1</td>\n",
       "      <td>0</td>\n",
       "    </tr>\n",
       "    <tr>\n",
       "      <th>95409</th>\n",
       "      <td>0</td>\n",
       "      <td>1</td>\n",
       "      <td>0</td>\n",
       "    </tr>\n",
       "    <tr>\n",
       "      <th>95410</th>\n",
       "      <td>1</td>\n",
       "      <td>0</td>\n",
       "      <td>0</td>\n",
       "    </tr>\n",
       "    <tr>\n",
       "      <th>95411</th>\n",
       "      <td>1</td>\n",
       "      <td>0</td>\n",
       "      <td>0</td>\n",
       "    </tr>\n",
       "  </tbody>\n",
       "</table>\n",
       "<p>95412 rows × 3 columns</p>\n",
       "</div>"
      ],
      "text/plain": [
       "       F  M  other\n",
       "0      1  0      0\n",
       "1      0  1      0\n",
       "2      0  1      0\n",
       "3      1  0      0\n",
       "4      1  0      0\n",
       "...   .. ..    ...\n",
       "95407  0  1      0\n",
       "95408  0  1      0\n",
       "95409  0  1      0\n",
       "95410  1  0      0\n",
       "95411  1  0      0\n",
       "\n",
       "[95412 rows x 3 columns]"
      ]
     },
     "execution_count": 98,
     "metadata": {},
     "output_type": "execute_result"
    }
   ],
   "source": [
    "GENDER = pd.DataFrame(col_transf1, columns=encoder1.categories_[0], dtype=int)\n",
    "GENDER"
   ]
  },
  {
   "cell_type": "code",
   "execution_count": 99,
   "id": "8036b25e",
   "metadata": {},
   "outputs": [
    {
     "data": {
      "text/html": [
       "<div>\n",
       "<style scoped>\n",
       "    .dataframe tbody tr th:only-of-type {\n",
       "        vertical-align: middle;\n",
       "    }\n",
       "\n",
       "    .dataframe tbody tr th {\n",
       "        vertical-align: top;\n",
       "    }\n",
       "\n",
       "    .dataframe thead th {\n",
       "        text-align: right;\n",
       "    }\n",
       "</style>\n",
       "<table border=\"1\" class=\"dataframe\">\n",
       "  <thead>\n",
       "    <tr style=\"text-align: right;\">\n",
       "      <th></th>\n",
       "      <th>A</th>\n",
       "      <th>B</th>\n",
       "      <th>C</th>\n",
       "      <th>D</th>\n",
       "    </tr>\n",
       "  </thead>\n",
       "  <tbody>\n",
       "    <tr>\n",
       "      <th>0</th>\n",
       "      <td>0</td>\n",
       "      <td>0</td>\n",
       "      <td>1</td>\n",
       "      <td>0</td>\n",
       "    </tr>\n",
       "    <tr>\n",
       "      <th>1</th>\n",
       "      <td>1</td>\n",
       "      <td>0</td>\n",
       "      <td>0</td>\n",
       "      <td>0</td>\n",
       "    </tr>\n",
       "    <tr>\n",
       "      <th>2</th>\n",
       "      <td>0</td>\n",
       "      <td>0</td>\n",
       "      <td>1</td>\n",
       "      <td>0</td>\n",
       "    </tr>\n",
       "    <tr>\n",
       "      <th>3</th>\n",
       "      <td>0</td>\n",
       "      <td>0</td>\n",
       "      <td>1</td>\n",
       "      <td>0</td>\n",
       "    </tr>\n",
       "    <tr>\n",
       "      <th>4</th>\n",
       "      <td>1</td>\n",
       "      <td>0</td>\n",
       "      <td>0</td>\n",
       "      <td>0</td>\n",
       "    </tr>\n",
       "    <tr>\n",
       "      <th>...</th>\n",
       "      <td>...</td>\n",
       "      <td>...</td>\n",
       "      <td>...</td>\n",
       "      <td>...</td>\n",
       "    </tr>\n",
       "    <tr>\n",
       "      <th>95407</th>\n",
       "      <td>0</td>\n",
       "      <td>0</td>\n",
       "      <td>1</td>\n",
       "      <td>0</td>\n",
       "    </tr>\n",
       "    <tr>\n",
       "      <th>95408</th>\n",
       "      <td>1</td>\n",
       "      <td>0</td>\n",
       "      <td>0</td>\n",
       "      <td>0</td>\n",
       "    </tr>\n",
       "    <tr>\n",
       "      <th>95409</th>\n",
       "      <td>0</td>\n",
       "      <td>1</td>\n",
       "      <td>0</td>\n",
       "      <td>0</td>\n",
       "    </tr>\n",
       "    <tr>\n",
       "      <th>95410</th>\n",
       "      <td>1</td>\n",
       "      <td>0</td>\n",
       "      <td>0</td>\n",
       "      <td>0</td>\n",
       "    </tr>\n",
       "    <tr>\n",
       "      <th>95411</th>\n",
       "      <td>0</td>\n",
       "      <td>0</td>\n",
       "      <td>1</td>\n",
       "      <td>0</td>\n",
       "    </tr>\n",
       "  </tbody>\n",
       "</table>\n",
       "<p>95412 rows × 4 columns</p>\n",
       "</div>"
      ],
      "text/plain": [
       "       A  B  C  D\n",
       "0      0  0  1  0\n",
       "1      1  0  0  0\n",
       "2      0  0  1  0\n",
       "3      0  0  1  0\n",
       "4      1  0  0  0\n",
       "...   .. .. .. ..\n",
       "95407  0  0  1  0\n",
       "95408  1  0  0  0\n",
       "95409  0  1  0  0\n",
       "95410  1  0  0  0\n",
       "95411  0  0  1  0\n",
       "\n",
       "[95412 rows x 4 columns]"
      ]
     },
     "execution_count": 99,
     "metadata": {},
     "output_type": "execute_result"
    }
   ],
   "source": [
    "encoder2 = OneHotEncoder()\n",
    "\n",
    "encoder2.fit(cat[['GEOCODE2']])\n",
    "col_transf2 = encoder2.transform(cat[['GEOCODE2']]).toarray()\n",
    "GEOCODE2 = pd.DataFrame(col_transf2, columns=encoder2.categories_[0], dtype=int)\n",
    "GEOCODE2\n",
    "\n",
    "\n",
    "\n"
   ]
  },
  {
   "cell_type": "code",
   "execution_count": 100,
   "id": "b301bdd0",
   "metadata": {},
   "outputs": [
    {
     "data": {
      "text/html": [
       "<div>\n",
       "<style scoped>\n",
       "    .dataframe tbody tr th:only-of-type {\n",
       "        vertical-align: middle;\n",
       "    }\n",
       "\n",
       "    .dataframe tbody tr th {\n",
       "        vertical-align: top;\n",
       "    }\n",
       "\n",
       "    .dataframe thead th {\n",
       "        text-align: right;\n",
       "    }\n",
       "</style>\n",
       "<table border=\"1\" class=\"dataframe\">\n",
       "  <thead>\n",
       "    <tr style=\"text-align: right;\">\n",
       "      <th></th>\n",
       "      <th>D</th>\n",
       "      <th>E</th>\n",
       "      <th>F</th>\n",
       "      <th>G</th>\n",
       "    </tr>\n",
       "  </thead>\n",
       "  <tbody>\n",
       "    <tr>\n",
       "      <th>0</th>\n",
       "      <td>0</td>\n",
       "      <td>1</td>\n",
       "      <td>0</td>\n",
       "      <td>0</td>\n",
       "    </tr>\n",
       "    <tr>\n",
       "      <th>1</th>\n",
       "      <td>0</td>\n",
       "      <td>0</td>\n",
       "      <td>0</td>\n",
       "      <td>1</td>\n",
       "    </tr>\n",
       "    <tr>\n",
       "      <th>2</th>\n",
       "      <td>0</td>\n",
       "      <td>1</td>\n",
       "      <td>0</td>\n",
       "      <td>0</td>\n",
       "    </tr>\n",
       "    <tr>\n",
       "      <th>3</th>\n",
       "      <td>0</td>\n",
       "      <td>1</td>\n",
       "      <td>0</td>\n",
       "      <td>0</td>\n",
       "    </tr>\n",
       "    <tr>\n",
       "      <th>4</th>\n",
       "      <td>0</td>\n",
       "      <td>0</td>\n",
       "      <td>1</td>\n",
       "      <td>0</td>\n",
       "    </tr>\n",
       "    <tr>\n",
       "      <th>...</th>\n",
       "      <td>...</td>\n",
       "      <td>...</td>\n",
       "      <td>...</td>\n",
       "      <td>...</td>\n",
       "    </tr>\n",
       "    <tr>\n",
       "      <th>95407</th>\n",
       "      <td>0</td>\n",
       "      <td>0</td>\n",
       "      <td>0</td>\n",
       "      <td>1</td>\n",
       "    </tr>\n",
       "    <tr>\n",
       "      <th>95408</th>\n",
       "      <td>0</td>\n",
       "      <td>0</td>\n",
       "      <td>1</td>\n",
       "      <td>0</td>\n",
       "    </tr>\n",
       "    <tr>\n",
       "      <th>95409</th>\n",
       "      <td>0</td>\n",
       "      <td>1</td>\n",
       "      <td>0</td>\n",
       "      <td>0</td>\n",
       "    </tr>\n",
       "    <tr>\n",
       "      <th>95410</th>\n",
       "      <td>0</td>\n",
       "      <td>0</td>\n",
       "      <td>1</td>\n",
       "      <td>0</td>\n",
       "    </tr>\n",
       "    <tr>\n",
       "      <th>95411</th>\n",
       "      <td>0</td>\n",
       "      <td>0</td>\n",
       "      <td>0</td>\n",
       "      <td>1</td>\n",
       "    </tr>\n",
       "  </tbody>\n",
       "</table>\n",
       "<p>95412 rows × 4 columns</p>\n",
       "</div>"
      ],
      "text/plain": [
       "       D  E  F  G\n",
       "0      0  1  0  0\n",
       "1      0  0  0  1\n",
       "2      0  1  0  0\n",
       "3      0  1  0  0\n",
       "4      0  0  1  0\n",
       "...   .. .. .. ..\n",
       "95407  0  0  0  1\n",
       "95408  0  0  1  0\n",
       "95409  0  1  0  0\n",
       "95410  0  0  1  0\n",
       "95411  0  0  0  1\n",
       "\n",
       "[95412 rows x 4 columns]"
      ]
     },
     "execution_count": 100,
     "metadata": {},
     "output_type": "execute_result"
    }
   ],
   "source": [
    "encoder3 = OneHotEncoder()\n",
    "\n",
    "encoder3.fit(cat[['RFA_2A']])\n",
    "col_transf3 = encoder3.transform(cat[['RFA_2A']]).toarray()\n",
    "\n",
    "RFA_2A = pd.DataFrame(col_transf3, columns=encoder3.categories_[0], dtype=int)\n",
    "RFA_2A\n"
   ]
  },
  {
   "cell_type": "code",
   "execution_count": 101,
   "id": "7c1907d2",
   "metadata": {},
   "outputs": [
    {
     "data": {
      "text/html": [
       "<div>\n",
       "<style scoped>\n",
       "    .dataframe tbody tr th:only-of-type {\n",
       "        vertical-align: middle;\n",
       "    }\n",
       "\n",
       "    .dataframe tbody tr th {\n",
       "        vertical-align: top;\n",
       "    }\n",
       "\n",
       "    .dataframe thead th {\n",
       "        text-align: right;\n",
       "    }\n",
       "</style>\n",
       "<table border=\"1\" class=\"dataframe\">\n",
       "  <thead>\n",
       "    <tr style=\"text-align: right;\">\n",
       "      <th></th>\n",
       "      <th>C</th>\n",
       "      <th>R</th>\n",
       "      <th>S</th>\n",
       "      <th>T</th>\n",
       "      <th>U</th>\n",
       "    </tr>\n",
       "  </thead>\n",
       "  <tbody>\n",
       "    <tr>\n",
       "      <th>0</th>\n",
       "      <td>0</td>\n",
       "      <td>0</td>\n",
       "      <td>0</td>\n",
       "      <td>1</td>\n",
       "      <td>0</td>\n",
       "    </tr>\n",
       "    <tr>\n",
       "      <th>1</th>\n",
       "      <td>0</td>\n",
       "      <td>0</td>\n",
       "      <td>1</td>\n",
       "      <td>0</td>\n",
       "      <td>0</td>\n",
       "    </tr>\n",
       "    <tr>\n",
       "      <th>2</th>\n",
       "      <td>0</td>\n",
       "      <td>1</td>\n",
       "      <td>0</td>\n",
       "      <td>0</td>\n",
       "      <td>0</td>\n",
       "    </tr>\n",
       "    <tr>\n",
       "      <th>3</th>\n",
       "      <td>0</td>\n",
       "      <td>1</td>\n",
       "      <td>0</td>\n",
       "      <td>0</td>\n",
       "      <td>0</td>\n",
       "    </tr>\n",
       "    <tr>\n",
       "      <th>4</th>\n",
       "      <td>0</td>\n",
       "      <td>0</td>\n",
       "      <td>1</td>\n",
       "      <td>0</td>\n",
       "      <td>0</td>\n",
       "    </tr>\n",
       "    <tr>\n",
       "      <th>...</th>\n",
       "      <td>...</td>\n",
       "      <td>...</td>\n",
       "      <td>...</td>\n",
       "      <td>...</td>\n",
       "      <td>...</td>\n",
       "    </tr>\n",
       "    <tr>\n",
       "      <th>95407</th>\n",
       "      <td>1</td>\n",
       "      <td>0</td>\n",
       "      <td>0</td>\n",
       "      <td>0</td>\n",
       "      <td>0</td>\n",
       "    </tr>\n",
       "    <tr>\n",
       "      <th>95408</th>\n",
       "      <td>1</td>\n",
       "      <td>0</td>\n",
       "      <td>0</td>\n",
       "      <td>0</td>\n",
       "      <td>0</td>\n",
       "    </tr>\n",
       "    <tr>\n",
       "      <th>95409</th>\n",
       "      <td>1</td>\n",
       "      <td>0</td>\n",
       "      <td>0</td>\n",
       "      <td>0</td>\n",
       "      <td>0</td>\n",
       "    </tr>\n",
       "    <tr>\n",
       "      <th>95410</th>\n",
       "      <td>1</td>\n",
       "      <td>0</td>\n",
       "      <td>0</td>\n",
       "      <td>0</td>\n",
       "      <td>0</td>\n",
       "    </tr>\n",
       "    <tr>\n",
       "      <th>95411</th>\n",
       "      <td>1</td>\n",
       "      <td>0</td>\n",
       "      <td>0</td>\n",
       "      <td>0</td>\n",
       "      <td>0</td>\n",
       "    </tr>\n",
       "  </tbody>\n",
       "</table>\n",
       "<p>95412 rows × 5 columns</p>\n",
       "</div>"
      ],
      "text/plain": [
       "       C  R  S  T  U\n",
       "0      0  0  0  1  0\n",
       "1      0  0  1  0  0\n",
       "2      0  1  0  0  0\n",
       "3      0  1  0  0  0\n",
       "4      0  0  1  0  0\n",
       "...   .. .. .. .. ..\n",
       "95407  1  0  0  0  0\n",
       "95408  1  0  0  0  0\n",
       "95409  1  0  0  0  0\n",
       "95410  1  0  0  0  0\n",
       "95411  1  0  0  0  0\n",
       "\n",
       "[95412 rows x 5 columns]"
      ]
     },
     "execution_count": 101,
     "metadata": {},
     "output_type": "execute_result"
    }
   ],
   "source": [
    "encoder4 = OneHotEncoder()\n",
    "\n",
    "encoder4.fit(cat[['DOMAIN_A']])\n",
    "col_transf4 = encoder4.transform(cat[['DOMAIN_A']]).toarray()\n",
    "DOMAIN_A = pd.DataFrame(col_transf4, columns=encoder4.categories_[0], dtype=int)\n",
    "DOMAIN_A\n"
   ]
  },
  {
   "cell_type": "code",
   "execution_count": 102,
   "id": "33197abc",
   "metadata": {},
   "outputs": [],
   "source": [
    "cat_encod = pd.concat([STATE,HOMEOWNR,GENDER,GEOCODE2,RFA_2A,DOMAIN_A], axis = 1)"
   ]
  },
  {
   "cell_type": "code",
   "execution_count": 103,
   "id": "0b16431c",
   "metadata": {},
   "outputs": [
    {
     "data": {
      "text/plain": [
       "(95412, 30)"
      ]
     },
     "execution_count": 103,
     "metadata": {},
     "output_type": "execute_result"
    }
   ],
   "source": [
    "cat_encod.shape"
   ]
  },
  {
   "cell_type": "code",
   "execution_count": 104,
   "id": "9be1eb4a",
   "metadata": {},
   "outputs": [
    {
     "data": {
      "text/html": [
       "<div>\n",
       "<style scoped>\n",
       "    .dataframe tbody tr th:only-of-type {\n",
       "        vertical-align: middle;\n",
       "    }\n",
       "\n",
       "    .dataframe tbody tr th {\n",
       "        vertical-align: top;\n",
       "    }\n",
       "\n",
       "    .dataframe thead th {\n",
       "        text-align: right;\n",
       "    }\n",
       "</style>\n",
       "<table border=\"1\" class=\"dataframe\">\n",
       "  <thead>\n",
       "    <tr style=\"text-align: right;\">\n",
       "      <th></th>\n",
       "      <th>CA</th>\n",
       "      <th>FL</th>\n",
       "      <th>GA</th>\n",
       "      <th>IL</th>\n",
       "      <th>IN</th>\n",
       "      <th>MI</th>\n",
       "      <th>MO</th>\n",
       "      <th>NC</th>\n",
       "      <th>TX</th>\n",
       "      <th>WA</th>\n",
       "      <th>WI</th>\n",
       "      <th>other</th>\n",
       "      <th>H</th>\n",
       "      <th>U</th>\n",
       "      <th>F</th>\n",
       "      <th>M</th>\n",
       "      <th>other</th>\n",
       "      <th>A</th>\n",
       "      <th>B</th>\n",
       "      <th>C</th>\n",
       "      <th>D</th>\n",
       "      <th>D</th>\n",
       "      <th>E</th>\n",
       "      <th>F</th>\n",
       "      <th>G</th>\n",
       "      <th>C</th>\n",
       "      <th>R</th>\n",
       "      <th>S</th>\n",
       "      <th>T</th>\n",
       "      <th>U</th>\n",
       "    </tr>\n",
       "  </thead>\n",
       "  <tbody>\n",
       "    <tr>\n",
       "      <th>0</th>\n",
       "      <td>0</td>\n",
       "      <td>0</td>\n",
       "      <td>0</td>\n",
       "      <td>1</td>\n",
       "      <td>0</td>\n",
       "      <td>0</td>\n",
       "      <td>0</td>\n",
       "      <td>0</td>\n",
       "      <td>0</td>\n",
       "      <td>0</td>\n",
       "      <td>0</td>\n",
       "      <td>0</td>\n",
       "      <td>1</td>\n",
       "      <td>0</td>\n",
       "      <td>1</td>\n",
       "      <td>0</td>\n",
       "      <td>0</td>\n",
       "      <td>0</td>\n",
       "      <td>0</td>\n",
       "      <td>1</td>\n",
       "      <td>0</td>\n",
       "      <td>0</td>\n",
       "      <td>1</td>\n",
       "      <td>0</td>\n",
       "      <td>0</td>\n",
       "      <td>0</td>\n",
       "      <td>0</td>\n",
       "      <td>0</td>\n",
       "      <td>1</td>\n",
       "      <td>0</td>\n",
       "    </tr>\n",
       "    <tr>\n",
       "      <th>1</th>\n",
       "      <td>1</td>\n",
       "      <td>0</td>\n",
       "      <td>0</td>\n",
       "      <td>0</td>\n",
       "      <td>0</td>\n",
       "      <td>0</td>\n",
       "      <td>0</td>\n",
       "      <td>0</td>\n",
       "      <td>0</td>\n",
       "      <td>0</td>\n",
       "      <td>0</td>\n",
       "      <td>0</td>\n",
       "      <td>1</td>\n",
       "      <td>0</td>\n",
       "      <td>0</td>\n",
       "      <td>1</td>\n",
       "      <td>0</td>\n",
       "      <td>1</td>\n",
       "      <td>0</td>\n",
       "      <td>0</td>\n",
       "      <td>0</td>\n",
       "      <td>0</td>\n",
       "      <td>0</td>\n",
       "      <td>0</td>\n",
       "      <td>1</td>\n",
       "      <td>0</td>\n",
       "      <td>0</td>\n",
       "      <td>1</td>\n",
       "      <td>0</td>\n",
       "      <td>0</td>\n",
       "    </tr>\n",
       "    <tr>\n",
       "      <th>2</th>\n",
       "      <td>0</td>\n",
       "      <td>0</td>\n",
       "      <td>0</td>\n",
       "      <td>0</td>\n",
       "      <td>0</td>\n",
       "      <td>0</td>\n",
       "      <td>0</td>\n",
       "      <td>1</td>\n",
       "      <td>0</td>\n",
       "      <td>0</td>\n",
       "      <td>0</td>\n",
       "      <td>0</td>\n",
       "      <td>0</td>\n",
       "      <td>1</td>\n",
       "      <td>0</td>\n",
       "      <td>1</td>\n",
       "      <td>0</td>\n",
       "      <td>0</td>\n",
       "      <td>0</td>\n",
       "      <td>1</td>\n",
       "      <td>0</td>\n",
       "      <td>0</td>\n",
       "      <td>1</td>\n",
       "      <td>0</td>\n",
       "      <td>0</td>\n",
       "      <td>0</td>\n",
       "      <td>1</td>\n",
       "      <td>0</td>\n",
       "      <td>0</td>\n",
       "      <td>0</td>\n",
       "    </tr>\n",
       "    <tr>\n",
       "      <th>3</th>\n",
       "      <td>1</td>\n",
       "      <td>0</td>\n",
       "      <td>0</td>\n",
       "      <td>0</td>\n",
       "      <td>0</td>\n",
       "      <td>0</td>\n",
       "      <td>0</td>\n",
       "      <td>0</td>\n",
       "      <td>0</td>\n",
       "      <td>0</td>\n",
       "      <td>0</td>\n",
       "      <td>0</td>\n",
       "      <td>0</td>\n",
       "      <td>1</td>\n",
       "      <td>1</td>\n",
       "      <td>0</td>\n",
       "      <td>0</td>\n",
       "      <td>0</td>\n",
       "      <td>0</td>\n",
       "      <td>1</td>\n",
       "      <td>0</td>\n",
       "      <td>0</td>\n",
       "      <td>1</td>\n",
       "      <td>0</td>\n",
       "      <td>0</td>\n",
       "      <td>0</td>\n",
       "      <td>1</td>\n",
       "      <td>0</td>\n",
       "      <td>0</td>\n",
       "      <td>0</td>\n",
       "    </tr>\n",
       "    <tr>\n",
       "      <th>4</th>\n",
       "      <td>0</td>\n",
       "      <td>1</td>\n",
       "      <td>0</td>\n",
       "      <td>0</td>\n",
       "      <td>0</td>\n",
       "      <td>0</td>\n",
       "      <td>0</td>\n",
       "      <td>0</td>\n",
       "      <td>0</td>\n",
       "      <td>0</td>\n",
       "      <td>0</td>\n",
       "      <td>0</td>\n",
       "      <td>1</td>\n",
       "      <td>0</td>\n",
       "      <td>1</td>\n",
       "      <td>0</td>\n",
       "      <td>0</td>\n",
       "      <td>1</td>\n",
       "      <td>0</td>\n",
       "      <td>0</td>\n",
       "      <td>0</td>\n",
       "      <td>0</td>\n",
       "      <td>0</td>\n",
       "      <td>1</td>\n",
       "      <td>0</td>\n",
       "      <td>0</td>\n",
       "      <td>0</td>\n",
       "      <td>1</td>\n",
       "      <td>0</td>\n",
       "      <td>0</td>\n",
       "    </tr>\n",
       "  </tbody>\n",
       "</table>\n",
       "</div>"
      ],
      "text/plain": [
       "   CA  FL  GA  IL  IN  MI  MO  NC  TX  WA  WI  other  H  U  F  M  other  A  B  \\\n",
       "0   0   0   0   1   0   0   0   0   0   0   0      0  1  0  1  0      0  0  0   \n",
       "1   1   0   0   0   0   0   0   0   0   0   0      0  1  0  0  1      0  1  0   \n",
       "2   0   0   0   0   0   0   0   1   0   0   0      0  0  1  0  1      0  0  0   \n",
       "3   1   0   0   0   0   0   0   0   0   0   0      0  0  1  1  0      0  0  0   \n",
       "4   0   1   0   0   0   0   0   0   0   0   0      0  1  0  1  0      0  1  0   \n",
       "\n",
       "   C  D  D  E  F  G  C  R  S  T  U  \n",
       "0  1  0  0  1  0  0  0  0  0  1  0  \n",
       "1  0  0  0  0  0  1  0  0  1  0  0  \n",
       "2  1  0  0  1  0  0  0  1  0  0  0  \n",
       "3  1  0  0  1  0  0  0  1  0  0  0  \n",
       "4  0  0  0  0  1  0  0  0  1  0  0  "
      ]
     },
     "execution_count": 104,
     "metadata": {},
     "output_type": "execute_result"
    }
   ],
   "source": [
    "cat_encod.head()"
   ]
  },
  {
   "cell_type": "code",
   "execution_count": 105,
   "id": "6a032049",
   "metadata": {},
   "outputs": [],
   "source": [
    "cat.drop(['STATE','HOMEOWNR','GENDER','GEOCODE2','RFA_2A','DOMAIN_A', 'RFA_2R'], axis = 1, inplace= True)"
   ]
  },
  {
   "cell_type": "code",
   "execution_count": 106,
   "id": "d972a218",
   "metadata": {},
   "outputs": [
    {
     "data": {
      "text/html": [
       "<div>\n",
       "<style scoped>\n",
       "    .dataframe tbody tr th:only-of-type {\n",
       "        vertical-align: middle;\n",
       "    }\n",
       "\n",
       "    .dataframe tbody tr th {\n",
       "        vertical-align: top;\n",
       "    }\n",
       "\n",
       "    .dataframe thead th {\n",
       "        text-align: right;\n",
       "    }\n",
       "</style>\n",
       "<table border=\"1\" class=\"dataframe\">\n",
       "  <thead>\n",
       "    <tr style=\"text-align: right;\">\n",
       "      <th></th>\n",
       "      <th>CLUSTER</th>\n",
       "      <th>DATASRCE</th>\n",
       "      <th>DOMAIN_B</th>\n",
       "      <th>ODATEW_YR</th>\n",
       "      <th>ODATEW_MM</th>\n",
       "      <th>DOB_YR</th>\n",
       "      <th>DOB_MM</th>\n",
       "      <th>MINRDATE_YR</th>\n",
       "      <th>MINRDATE_MM</th>\n",
       "      <th>MAXRDATE_YR</th>\n",
       "      <th>MAXRDATE_MM</th>\n",
       "      <th>LASTDATE_YR</th>\n",
       "      <th>LASTDATE_MM</th>\n",
       "      <th>FIRSTDATE_YR</th>\n",
       "      <th>FIRSTDATE_MM</th>\n",
       "    </tr>\n",
       "  </thead>\n",
       "  <tbody>\n",
       "    <tr>\n",
       "      <th>0</th>\n",
       "      <td>36</td>\n",
       "      <td>3</td>\n",
       "      <td>2</td>\n",
       "      <td>89</td>\n",
       "      <td>1</td>\n",
       "      <td>37</td>\n",
       "      <td>12</td>\n",
       "      <td>92</td>\n",
       "      <td>8</td>\n",
       "      <td>94</td>\n",
       "      <td>2</td>\n",
       "      <td>95</td>\n",
       "      <td>12</td>\n",
       "      <td>89</td>\n",
       "      <td>11</td>\n",
       "    </tr>\n",
       "    <tr>\n",
       "      <th>1</th>\n",
       "      <td>14</td>\n",
       "      <td>3</td>\n",
       "      <td>1</td>\n",
       "      <td>94</td>\n",
       "      <td>1</td>\n",
       "      <td>52</td>\n",
       "      <td>2</td>\n",
       "      <td>93</td>\n",
       "      <td>10</td>\n",
       "      <td>95</td>\n",
       "      <td>12</td>\n",
       "      <td>95</td>\n",
       "      <td>12</td>\n",
       "      <td>93</td>\n",
       "      <td>10</td>\n",
       "    </tr>\n",
       "    <tr>\n",
       "      <th>2</th>\n",
       "      <td>43</td>\n",
       "      <td>3</td>\n",
       "      <td>2</td>\n",
       "      <td>90</td>\n",
       "      <td>1</td>\n",
       "      <td>0</td>\n",
       "      <td>2</td>\n",
       "      <td>91</td>\n",
       "      <td>11</td>\n",
       "      <td>92</td>\n",
       "      <td>7</td>\n",
       "      <td>95</td>\n",
       "      <td>12</td>\n",
       "      <td>90</td>\n",
       "      <td>1</td>\n",
       "    </tr>\n",
       "    <tr>\n",
       "      <th>3</th>\n",
       "      <td>44</td>\n",
       "      <td>3</td>\n",
       "      <td>2</td>\n",
       "      <td>87</td>\n",
       "      <td>1</td>\n",
       "      <td>28</td>\n",
       "      <td>1</td>\n",
       "      <td>87</td>\n",
       "      <td>11</td>\n",
       "      <td>94</td>\n",
       "      <td>11</td>\n",
       "      <td>95</td>\n",
       "      <td>12</td>\n",
       "      <td>87</td>\n",
       "      <td>2</td>\n",
       "    </tr>\n",
       "    <tr>\n",
       "      <th>4</th>\n",
       "      <td>16</td>\n",
       "      <td>3</td>\n",
       "      <td>2</td>\n",
       "      <td>86</td>\n",
       "      <td>1</td>\n",
       "      <td>20</td>\n",
       "      <td>1</td>\n",
       "      <td>93</td>\n",
       "      <td>10</td>\n",
       "      <td>96</td>\n",
       "      <td>1</td>\n",
       "      <td>96</td>\n",
       "      <td>1</td>\n",
       "      <td>79</td>\n",
       "      <td>3</td>\n",
       "    </tr>\n",
       "  </tbody>\n",
       "</table>\n",
       "</div>"
      ],
      "text/plain": [
       "   CLUSTER  DATASRCE  DOMAIN_B  ODATEW_YR  ODATEW_MM  DOB_YR  DOB_MM  \\\n",
       "0       36         3         2         89          1      37      12   \n",
       "1       14         3         1         94          1      52       2   \n",
       "2       43         3         2         90          1       0       2   \n",
       "3       44         3         2         87          1      28       1   \n",
       "4       16         3         2         86          1      20       1   \n",
       "\n",
       "   MINRDATE_YR  MINRDATE_MM  MAXRDATE_YR  MAXRDATE_MM  LASTDATE_YR  \\\n",
       "0           92            8           94            2           95   \n",
       "1           93           10           95           12           95   \n",
       "2           91           11           92            7           95   \n",
       "3           87           11           94           11           95   \n",
       "4           93           10           96            1           96   \n",
       "\n",
       "   LASTDATE_MM  FIRSTDATE_YR  FIRSTDATE_MM  \n",
       "0           12            89            11  \n",
       "1           12            93            10  \n",
       "2           12            90             1  \n",
       "3           12            87             2  \n",
       "4            1            79             3  "
      ]
     },
     "execution_count": 106,
     "metadata": {},
     "output_type": "execute_result"
    }
   ],
   "source": [
    "cat.head()"
   ]
  },
  {
   "cell_type": "code",
   "execution_count": 108,
   "id": "b0f45a9e",
   "metadata": {},
   "outputs": [],
   "source": [
    "cat = pd.concat([cat, cat_encod], axis = 1)"
   ]
  },
  {
   "cell_type": "code",
   "execution_count": 109,
   "id": "9fd01da2",
   "metadata": {},
   "outputs": [
    {
     "data": {
      "text/plain": [
       "(95412, 75)"
      ]
     },
     "execution_count": 109,
     "metadata": {},
     "output_type": "execute_result"
    }
   ],
   "source": [
    "cat.shape"
   ]
  },
  {
   "cell_type": "markdown",
   "id": "f71e7882",
   "metadata": {},
   "source": [
    "## Train-test split"
   ]
  },
  {
   "cell_type": "code",
   "execution_count": 110,
   "id": "fe365211",
   "metadata": {},
   "outputs": [],
   "source": [
    "data = pd.concat([cat, num, target], axis = 1)"
   ]
  },
  {
   "cell_type": "code",
   "execution_count": 111,
   "id": "ded1b1d1",
   "metadata": {},
   "outputs": [],
   "source": [
    "y = data['TARGET_B']\n",
    "X = data.drop(['TARGET_B'], axis = 1)"
   ]
  },
  {
   "cell_type": "code",
   "execution_count": 112,
   "id": "597c5287",
   "metadata": {},
   "outputs": [],
   "source": [
    "X_train, X_test, y_train, y_test = train_test_split(X, y, test_size=0.25, random_state=0)\n",
    "\n",
    "X_train = pd.DataFrame(X_train)\n",
    "X_test = pd.DataFrame(X_test)\n",
    "\n",
    "X_train.columns = X.columns\n",
    "X_test.columns = X.columns"
   ]
  },
  {
   "cell_type": "markdown",
   "id": "2408c5d0",
   "metadata": {},
   "source": [
    "## Upsampling to correct the class imbalance in TARGET_B"
   ]
  },
  {
   "cell_type": "markdown",
   "id": "8f8020e2",
   "metadata": {},
   "source": [
    "We apply upsampling to the train set. "
   ]
  },
  {
   "cell_type": "code",
   "execution_count": 119,
   "id": "2785ce2b",
   "metadata": {},
   "outputs": [
    {
     "name": "stdout",
     "output_type": "stream",
     "text": [
      "(135940, 391)\n",
      "(135940,)\n"
     ]
    }
   ],
   "source": [
    "from imblearn.over_sampling import SMOTE\n",
    "\n",
    "sm = SMOTE(random_state=100,k_neighbors=3)\n",
    "X_train_SMOTE, y_train_SMOTE = sm.fit_resample(X_train_SMOTE, y_train_SMOTE)\n",
    "\n",
    "print(X_train_SMOTE.shape)\n",
    "print(y_train_SMOTE.shape)\n"
   ]
  },
  {
   "cell_type": "code",
   "execution_count": 121,
   "id": "ad763204",
   "metadata": {},
   "outputs": [
    {
     "data": {
      "text/plain": [
       "0    67970\n",
       "1     3589\n",
       "Name: TARGET_B, dtype: int64"
      ]
     },
     "execution_count": 121,
     "metadata": {},
     "output_type": "execute_result"
    }
   ],
   "source": [
    "y_train.value_counts()"
   ]
  },
  {
   "cell_type": "code",
   "execution_count": 115,
   "id": "29723717",
   "metadata": {},
   "outputs": [
    {
     "data": {
      "text/plain": [
       "0    67970\n",
       "1    67970\n",
       "Name: TARGET_B, dtype: int64"
      ]
     },
     "execution_count": 115,
     "metadata": {},
     "output_type": "execute_result"
    }
   ],
   "source": [
    "y_train_SMOTE.value_counts()"
   ]
  },
  {
   "cell_type": "markdown",
   "id": "2f0a9b3e",
   "metadata": {},
   "source": [
    "## Applying the random forest classifier"
   ]
  },
  {
   "cell_type": "code",
   "execution_count": 116,
   "id": "3bad4e96",
   "metadata": {},
   "outputs": [],
   "source": [
    "X_train = pd.DataFrame(X_train_SMOTE)\n",
    "X_test = pd.DataFrame(X_test)\n",
    "\n",
    "\n",
    "y_train_regression = X_train['TARGET_D']\n",
    "y_test_regression = X_test['TARGET_D']\n",
    "\n",
    "# Now we can remove the column target d from the set of features\n",
    "X_train = X_train.drop(['TARGET_D'], axis = 1)\n",
    "X_test = X_test.drop(['TARGET_D'], axis = 1)"
   ]
  },
  {
   "cell_type": "code",
   "execution_count": 123,
   "id": "b6ebc3a0",
   "metadata": {},
   "outputs": [
    {
     "name": "stdout",
     "output_type": "stream",
     "text": [
      "The R2 for the Random Forest in the TRAIN set is 0.90\n",
      "The R2 for the Random Forest in the TEST  set is 0.88\n"
     ]
    },
    {
     "data": {
      "text/plain": [
       "0    22599\n",
       "1     1254\n",
       "Name: TARGET_B, dtype: int64"
      ]
     },
     "metadata": {},
     "output_type": "display_data"
    },
    {
     "data": {
      "text/plain": [
       "array([[20708,  1891],\n",
       "       [ 1061,   193]], dtype=int64)"
      ]
     },
     "metadata": {},
     "output_type": "display_data"
    }
   ],
   "source": [
    "from sklearn.ensemble import RandomForestClassifier\n",
    "from sklearn.metrics import confusion_matrix\n",
    "\n",
    "clf = RandomForestClassifier(max_depth=5,\n",
    "                             min_samples_split=20,\n",
    "                             min_samples_leaf =20,\n",
    "                             max_samples=0.8,\n",
    "                             random_state = 42)\n",
    "clf.fit(X_train, y_train_SMOTE)\n",
    "\n",
    "print(\"The R2 for the Random Forest in the TRAIN set is {:.2f}\".format(clf.score(X_train,  y_train_SMOTE)))\n",
    "print(\"The R2 for the Random Forest in the TEST  set is {:.2f}\".format(clf.score(X_test, y_test)))\n",
    "\n",
    "y_pred = clf.predict(X_test)\n",
    "display(y_test.value_counts())\n",
    "display(confusion_matrix(y_test, y_pred))"
   ]
  },
  {
   "cell_type": "code",
   "execution_count": null,
   "id": "ae8dc381",
   "metadata": {},
   "outputs": [],
   "source": [
    "from sklearn.model_selection import cross_val_score\n",
    "\n",
    "clf = RandomForestClassifier(max_depth=5,\n",
    "                             min_samples_split=20,\n",
    "                             min_samples_leaf =20,\n",
    "                             max_samples=0.8)\n",
    "\n",
    "cross_val_scores = cross_val_score(clf, X_train, y_train, cv=10)\n",
    "\n",
    "print(\"The mean R2 of the folds was {:.2f}\".format(np.mean(cross_val_scores)))"
   ]
  },
  {
   "cell_type": "code",
   "execution_count": 132,
   "id": "e0d88874",
   "metadata": {},
   "outputs": [
    {
     "data": {
      "image/png": "[encoded data removed]",
      "text/plain": [
       "<Figure size 432x288 with 2 Axes>"
      ]
     },
     "metadata": {
      "needs_background": "light"
     },
     "output_type": "display_data"
    }
   ],
   "source": [
    "cm = confusion_matrix(y_test, y_pred, labels=clf.classes_)\n",
    "disp = ConfusionMatrixDisplay(confusion_matrix=cm, display_labels=clf.classes_)\n",
    "disp.plot()\n",
    "plt.show()"
   ]
  },
  {
   "cell_type": "code",
   "execution_count": 134,
   "id": "c932b1bc",
   "metadata": {},
   "outputs": [
    {
     "name": "stdout",
     "output_type": "stream",
     "text": [
      "The mean R2 of the folds was 0.99\n"
     ]
    }
   ],
   "source": [
    "from sklearn.model_selection import cross_val_score\n",
    "\n",
    "clf = RandomForestClassifier(max_depth=5,\n",
    "                             min_samples_split=20,\n",
    "                             min_samples_leaf =20,\n",
    "                             max_samples=0.8)\n",
    "\n",
    "cross_val_scores = cross_val_score(clf, X_train_SMOTE, y_train_SMOTE, cv=10)\n",
    "\n",
    "print(\"The mean R2 of the folds was {:.2f}\".format(np.mean(cross_val_scores)))"
   ]
  },
  {
   "cell_type": "code",
   "execution_count": 135,
   "id": "cdf742ea",
   "metadata": {},
   "outputs": [
    {
     "data": {
      "text/plain": [
       "array([0.89995586, 0.99830808, 0.99801383, 0.9969104 , 0.99558629,\n",
       "       0.99330587, 0.9984552 , 0.99771958, 0.99462998, 0.99852876])"
      ]
     },
     "execution_count": 135,
     "metadata": {},
     "output_type": "execute_result"
    }
   ],
   "source": [
    "cross_val_scores"
   ]
  },
  {
   "cell_type": "code",
   "execution_count": null,
   "id": "1ac6d9dd",
   "metadata": {},
   "outputs": [],
   "source": []
  }
 ],
 "metadata": {
  "kernelspec": {
   "display_name": "Python 3 (ipykernel)",
   "language": "python",
   "name": "python3"
  },
  "language_info": {
   "codemirror_mode": {
    "name": "ipython",
    "version": 3
   },
   "file_extension": ".py",
   "mimetype": "text/x-python",
   "name": "python",
   "nbconvert_exporter": "python",
   "pygments_lexer": "ipython3",
   "version": "3.9.12"
  },
  "toc": {
   "base_numbering": 1,
   "nav_menu": {},
   "number_sections": true,
   "sideBar": true,
   "skip_h1_title": false,
   "title_cell": "Table of Contents",
   "title_sidebar": "Contents",
   "toc_cell": false,
   "toc_position": {},
   "toc_section_display": true,
   "toc_window_display": false
  },
  "varInspector": {
   "cols": {
    "lenName": 16,
    "lenType": 16,
    "lenVar": 40
   },
   "kernels_config": {
    "python": {
     "delete_cmd_postfix": "",
     "delete_cmd_prefix": "del ",
     "library": "var_list.py",
     "varRefreshCmd": "print(var_dic_list())"
    },
    "r": {
     "delete_cmd_postfix": ") ",
     "delete_cmd_prefix": "rm(",
     "library": "var_list.r",
     "varRefreshCmd": "cat(var_dic_list()) "
    }
   },
   "types_to_exclude": [
    "module",
    "function",
    "builtin_function_or_method",
    "instance",
    "_Feature"
   ],
   "window_display": false
  }
 },
 "nbformat": 4,
 "nbformat_minor": 5
}
